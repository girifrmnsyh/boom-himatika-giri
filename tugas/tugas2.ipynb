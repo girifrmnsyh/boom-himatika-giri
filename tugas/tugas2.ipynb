{
 "cells": [
  {
   "cell_type": "code",
   "execution_count": 4,
   "id": "7c2198c6",
   "metadata": {},
   "outputs": [],
   "source": [
    "import pandas as pd\n",
    "import numpy as np\n",
    "import requests\n",
    "from sklearn.model_selection import train_test_split\n",
    "from sklearn.linear_model import LinearRegression\n",
    "from sklearn.tree import DecisionTreeRegressor\n",
    "from sklearn.metrics import(\n",
    "    mean_absolute_error as MAE,\n",
    "    mean_squared_error as MSE,\n",
    "    mean_absolute_percentage_error as MAPE,\n",
    "\n",
    ")\n",
    "\n",
    "from sklearn.pipeline import Pipeline\n",
    "from sklearn.impute import SimpleImputer\n",
    "from sklearn.preprocessing import StandardScaler, RobustScaler\n",
    "from sklearn.compose import ColumnTransformer\n",
    "\n",
    "\n",
    "import joblib\n",
    "import warnings\n",
    "warnings.filterwarnings('ignore')"
   ]
  },
  {
   "cell_type": "code",
   "execution_count": 5,
   "id": "98aa3f57",
   "metadata": {},
   "outputs": [],
   "source": [
    "# import data\n",
    "data_name_june = \"yellow_tripdata_2025-06.parquet\"\n",
    "raw_data_url_june = \"https://d37ci6vzurychx.cloudfront.net/trip-data/yellow_tripdata_2025-06.parquet\"\n",
    "\n",
    "# Download file terlebih dahulu\n",
    "response = requests.get(raw_data_url_june)\n",
    "with open(f\"../data/{data_name_june}\", \"wb\") as f:\n",
    "    f.write(response.content)\n",
    "\n",
    "# Baca file parquet dari lokal\n",
    "df_june = pd.read_parquet(f\"../data/{data_name_june}\")\n",
    "\n",
    "trip_data_06 = df_june\n",
    "\n"
   ]
  },
  {
   "cell_type": "code",
   "execution_count": 6,
   "id": "126ff06b",
   "metadata": {},
   "outputs": [
    {
     "name": "stdout",
     "output_type": "stream",
     "text": [
      "Training data size: 3458368 samples\n",
      "Testing data size: 864592 samples\n"
     ]
    }
   ],
   "source": [
    "# Feature and target selection\n",
    "features = trip_data_06[['passenger_count', 'trip_distance', 'PULocationID', 'DOLocationID']]\n",
    "target = trip_data_06['total_amount']\n",
    "\n",
    "# Split data into training and testing sets\n",
    "X_train, X_test, y_train, y_test = train_test_split(features,target,\n",
    "                                         test_size=0.2,\n",
    "                                         random_state=42)\n",
    "\n",
    "# rows of features\n",
    "print(f\"Training data size: {X_train.shape[0]} samples\")\n",
    "print(f\"Testing data size: {X_test.shape[0]} samples\")\n"
   ]
  },
  {
   "cell_type": "code",
   "execution_count": 7,
   "id": "2036943e",
   "metadata": {},
   "outputs": [],
   "source": [
    "\n",
    "# Membuat pipeline preprocessing\n",
    "preprocessing_pipeline = Pipeline([\n",
    "    # Step 1: Handling missing values\n",
    "    ('imputer', SimpleImputer(strategy='median')), \n",
    "    \n",
    "    # Step 2: Removing outliers effect and scaling\n",
    "    ('scaler', RobustScaler()),\n",
    "])"
   ]
  },
  {
   "cell_type": "code",
   "execution_count": 8,
   "id": "106c56a9",
   "metadata": {},
   "outputs": [
    {
     "name": "stdout",
     "output_type": "stream",
     "text": [
      "Best parameters: {'prep__scaler__quantile_range': (10.0, 90.0), 'prep__imputer__strategy': 'median', 'algo__positive': False, 'algo__fit_intercept': True}\n",
      "Best MSE score: 31199.922590398568\n"
     ]
    }
   ],
   "source": [
    "from sklearn.model_selection import RandomizedSearchCV\n",
    "\n",
    "# pipeline model\n",
    "pipeline = Pipeline([\n",
    "    ('prep', preprocessing_pipeline),\n",
    "    ('algo', LinearRegression())\n",
    "])\n",
    "\n",
    "# Parameter grid \n",
    "param_grid = {\n",
    "    # prep\n",
    "    'prep__scaler__quantile_range': [(25.0, 75.0), (10.0, 90.0), (5.0, 95.0)],\n",
    "    'prep__imputer__strategy': ['mean', 'median', 'most_frequent'],\n",
    "\n",
    "    # algo\n",
    "    'algo__fit_intercept': [True, False],\n",
    "    'algo__positive': [True, False]\n",
    "}\n",
    "\n",
    "# RandomizedSearchCV (tuning hyperparameter model))\n",
    "model = RandomizedSearchCV(\n",
    "    estimator=pipeline,\n",
    "    param_distributions=param_grid,\n",
    "    n_iter=10,  # Number of parameter settings sampled\n",
    "    cv=5,       # Number of cross-validation folds\n",
    "    scoring='neg_mean_squared_error',\n",
    "    n_jobs=-1,  # Use all available CPU cores\n",
    "    random_state=42\n",
    ")\n",
    "\n",
    "# Fit RandomizedSearchCV\n",
    "model.fit(X_train, y_train)\n",
    "\n",
    "# Print best parameters and score\n",
    "print(\"Best parameters:\", model.best_params_)\n",
    "print(\"Best MSE score:\", -model.best_score_)"
   ]
  },
  {
   "cell_type": "code",
   "execution_count": 9,
   "id": "d1f12dbd",
   "metadata": {},
   "outputs": [
    {
     "name": "stdout",
     "output_type": "stream",
     "text": [
      "Mean Absolute Error (MAE): 14.55\n",
      "Mean Squared Error (MSE): 569.23\n",
      "Root Mean Squared Error (RMSE): 23.86\n",
      "Mean Absolute Percentage Error (MAPE): 17962799434417.8203\n",
      "R^2 Score: -569.2298\n"
     ]
    }
   ],
   "source": [
    "# Prediksi pada data test\n",
    "y_pred = model.predict(X_test)\n",
    "\n",
    "# Evaluasi model regresi\n",
    "mae = MAE(y_test, y_pred)\n",
    "mse = MSE(y_test, y_pred)\n",
    "rmse = np.sqrt(mse)\n",
    "mape = MAPE(y_test, y_pred)\n",
    "r2 = model.score(X_test, y_test)\n",
    "\n",
    "print(f\"Mean Absolute Error (MAE): {mae:.2f}\")\n",
    "print(f\"Mean Squared Error (MSE): {mse:.2f}\")\n",
    "print(f\"Root Mean Squared Error (RMSE): {rmse:.2f}\")\n",
    "print(f\"Mean Absolute Percentage Error (MAPE): {mape:.4f}\")\n",
    "print(f\"R^2 Score: {r2:.4f}\")"
   ]
  },
  {
   "cell_type": "code",
   "execution_count": null,
   "id": "c2231ec9",
   "metadata": {},
   "outputs": [],
   "source": []
  },
  {
   "cell_type": "code",
   "execution_count": null,
   "id": "cb28c220",
   "metadata": {},
   "outputs": [],
   "source": []
  },
  {
   "cell_type": "code",
   "execution_count": null,
   "id": "d1b55aba",
   "metadata": {},
   "outputs": [],
   "source": []
  }
 ],
 "metadata": {
  "kernelspec": {
   "display_name": "boom_env",
   "language": "python",
   "name": "python3"
  },
  "language_info": {
   "codemirror_mode": {
    "name": "ipython",
    "version": 3
   },
   "file_extension": ".py",
   "mimetype": "text/x-python",
   "name": "python",
   "nbconvert_exporter": "python",
   "pygments_lexer": "ipython3",
   "version": "3.12.11"
  }
 },
 "nbformat": 4,
 "nbformat_minor": 5
}
