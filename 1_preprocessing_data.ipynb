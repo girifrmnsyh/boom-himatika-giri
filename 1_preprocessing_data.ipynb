{
 "cells": [
  {
   "cell_type": "markdown",
   "id": "9cc6a015",
   "metadata": {},
   "source": [
    "# Init."
   ]
  },
  {
   "cell_type": "code",
   "execution_count": 2,
   "id": "a84e13a5",
   "metadata": {},
   "outputs": [],
   "source": [
    "import pandas as pd\n",
    "import numpy as np\n",
    "import matplotlib.pyplot as plt\n",
    "import seaborn as sns\n",
    "import calendar "
   ]
  },
  {
   "cell_type": "markdown",
   "id": "54e69f3f",
   "metadata": {},
   "source": [
    "# Load Data"
   ]
  },
  {
   "cell_type": "markdown",
   "id": "ca09e1f7",
   "metadata": {},
   "source": [
    "> Read data realtime and save to local"
   ]
  },
  {
   "cell_type": "code",
   "execution_count": 5,
   "id": "3ce55d62",
   "metadata": {},
   "outputs": [],
   "source": [
    " # Data Source: https://www.nyc.gov/site/tlc/about/tlc-trip-record-data.page\n",
    "\n",
    " data_name_june = \"yellow_tripdata_2025-06.parquet\"\n",
    " data_name_july = \"yellow_tripdata_2025-07.parquet\"\n",
    "\n",
    " raw_data_url_june = \"https://d37ci6vzurychx.cloudfront.net/trip-data/yellow_tripdata_2025-06.parquet\"\n",
    " raw_data_url_july = \"https://d37ci6vzurychx.cloudfront.net/trip-data/yellow_tripdata_2025-07.parquet\"\n",
    "\n",
    " df_june = pd.read_parquet(raw_data_url_june)\n",
    " df_july = pd.read_parquet(raw_data_url_july)\n",
    "\n",
    " df_june.to_parquet(f\"./data/{data_name_june}\")\n",
    " df_july.to_parquet(f\"./data/{data_name_july}\")"
   ]
  },
  {
   "cell_type": "code",
   "execution_count": 6,
   "id": "295b0410",
   "metadata": {},
   "outputs": [],
   "source": [
    "# Read Data\n",
    "taxi_zone = pd.read_csv('./data/taxi_zone_lookup.csv')\n",
    "trip_data_06 = pd.read_parquet('./data/yellow_tripdata_2025-06.parquet')"
   ]
  },
  {
   "cell_type": "code",
   "execution_count": 7,
   "id": "80571707",
   "metadata": {},
   "outputs": [
    {
     "data": {
      "text/html": [
       "<div>\n",
       "<style scoped>\n",
       "    .dataframe tbody tr th:only-of-type {\n",
       "        vertical-align: middle;\n",
       "    }\n",
       "\n",
       "    .dataframe tbody tr th {\n",
       "        vertical-align: top;\n",
       "    }\n",
       "\n",
       "    .dataframe thead th {\n",
       "        text-align: right;\n",
       "    }\n",
       "</style>\n",
       "<table border=\"1\" class=\"dataframe\">\n",
       "  <thead>\n",
       "    <tr style=\"text-align: right;\">\n",
       "      <th></th>\n",
       "      <th>LocationID</th>\n",
       "      <th>Borough</th>\n",
       "      <th>Zone</th>\n",
       "      <th>service_zone</th>\n",
       "    </tr>\n",
       "  </thead>\n",
       "  <tbody>\n",
       "    <tr>\n",
       "      <th>0</th>\n",
       "      <td>1</td>\n",
       "      <td>EWR</td>\n",
       "      <td>Newark Airport</td>\n",
       "      <td>EWR</td>\n",
       "    </tr>\n",
       "    <tr>\n",
       "      <th>1</th>\n",
       "      <td>2</td>\n",
       "      <td>Queens</td>\n",
       "      <td>Jamaica Bay</td>\n",
       "      <td>Boro Zone</td>\n",
       "    </tr>\n",
       "    <tr>\n",
       "      <th>2</th>\n",
       "      <td>3</td>\n",
       "      <td>Bronx</td>\n",
       "      <td>Allerton/Pelham Gardens</td>\n",
       "      <td>Boro Zone</td>\n",
       "    </tr>\n",
       "    <tr>\n",
       "      <th>3</th>\n",
       "      <td>4</td>\n",
       "      <td>Manhattan</td>\n",
       "      <td>Alphabet City</td>\n",
       "      <td>Yellow Zone</td>\n",
       "    </tr>\n",
       "    <tr>\n",
       "      <th>4</th>\n",
       "      <td>5</td>\n",
       "      <td>Staten Island</td>\n",
       "      <td>Arden Heights</td>\n",
       "      <td>Boro Zone</td>\n",
       "    </tr>\n",
       "    <tr>\n",
       "      <th>...</th>\n",
       "      <td>...</td>\n",
       "      <td>...</td>\n",
       "      <td>...</td>\n",
       "      <td>...</td>\n",
       "    </tr>\n",
       "    <tr>\n",
       "      <th>260</th>\n",
       "      <td>261</td>\n",
       "      <td>Manhattan</td>\n",
       "      <td>World Trade Center</td>\n",
       "      <td>Yellow Zone</td>\n",
       "    </tr>\n",
       "    <tr>\n",
       "      <th>261</th>\n",
       "      <td>262</td>\n",
       "      <td>Manhattan</td>\n",
       "      <td>Yorkville East</td>\n",
       "      <td>Yellow Zone</td>\n",
       "    </tr>\n",
       "    <tr>\n",
       "      <th>262</th>\n",
       "      <td>263</td>\n",
       "      <td>Manhattan</td>\n",
       "      <td>Yorkville West</td>\n",
       "      <td>Yellow Zone</td>\n",
       "    </tr>\n",
       "    <tr>\n",
       "      <th>263</th>\n",
       "      <td>264</td>\n",
       "      <td>Unknown</td>\n",
       "      <td>NaN</td>\n",
       "      <td>NaN</td>\n",
       "    </tr>\n",
       "    <tr>\n",
       "      <th>264</th>\n",
       "      <td>265</td>\n",
       "      <td>NaN</td>\n",
       "      <td>Outside of NYC</td>\n",
       "      <td>NaN</td>\n",
       "    </tr>\n",
       "  </tbody>\n",
       "</table>\n",
       "<p>265 rows × 4 columns</p>\n",
       "</div>"
      ],
      "text/plain": [
       "     LocationID        Borough                     Zone service_zone\n",
       "0             1            EWR           Newark Airport          EWR\n",
       "1             2         Queens              Jamaica Bay    Boro Zone\n",
       "2             3          Bronx  Allerton/Pelham Gardens    Boro Zone\n",
       "3             4      Manhattan            Alphabet City  Yellow Zone\n",
       "4             5  Staten Island            Arden Heights    Boro Zone\n",
       "..          ...            ...                      ...          ...\n",
       "260         261      Manhattan       World Trade Center  Yellow Zone\n",
       "261         262      Manhattan           Yorkville East  Yellow Zone\n",
       "262         263      Manhattan           Yorkville West  Yellow Zone\n",
       "263         264        Unknown                      NaN          NaN\n",
       "264         265            NaN           Outside of NYC          NaN\n",
       "\n",
       "[265 rows x 4 columns]"
      ]
     },
     "execution_count": 7,
     "metadata": {},
     "output_type": "execute_result"
    }
   ],
   "source": [
    "# Preview Data\n",
    "taxi_zone"
   ]
  },
  {
   "cell_type": "code",
   "execution_count": 8,
   "id": "1929cce2",
   "metadata": {},
   "outputs": [
    {
     "data": {
      "text/html": [
       "<div>\n",
       "<style scoped>\n",
       "    .dataframe tbody tr th:only-of-type {\n",
       "        vertical-align: middle;\n",
       "    }\n",
       "\n",
       "    .dataframe tbody tr th {\n",
       "        vertical-align: top;\n",
       "    }\n",
       "\n",
       "    .dataframe thead th {\n",
       "        text-align: right;\n",
       "    }\n",
       "</style>\n",
       "<table border=\"1\" class=\"dataframe\">\n",
       "  <thead>\n",
       "    <tr style=\"text-align: right;\">\n",
       "      <th></th>\n",
       "      <th>VendorID</th>\n",
       "      <th>tpep_pickup_datetime</th>\n",
       "      <th>tpep_dropoff_datetime</th>\n",
       "      <th>passenger_count</th>\n",
       "      <th>trip_distance</th>\n",
       "      <th>RatecodeID</th>\n",
       "      <th>store_and_fwd_flag</th>\n",
       "      <th>PULocationID</th>\n",
       "      <th>DOLocationID</th>\n",
       "      <th>payment_type</th>\n",
       "      <th>fare_amount</th>\n",
       "      <th>extra</th>\n",
       "      <th>mta_tax</th>\n",
       "      <th>tip_amount</th>\n",
       "      <th>tolls_amount</th>\n",
       "      <th>improvement_surcharge</th>\n",
       "      <th>total_amount</th>\n",
       "      <th>congestion_surcharge</th>\n",
       "      <th>Airport_fee</th>\n",
       "      <th>cbd_congestion_fee</th>\n",
       "    </tr>\n",
       "  </thead>\n",
       "  <tbody>\n",
       "    <tr>\n",
       "      <th>0</th>\n",
       "      <td>1</td>\n",
       "      <td>2025-06-01 00:02:50</td>\n",
       "      <td>2025-06-01 00:39:51</td>\n",
       "      <td>1.0</td>\n",
       "      <td>10.00</td>\n",
       "      <td>1.0</td>\n",
       "      <td>N</td>\n",
       "      <td>138</td>\n",
       "      <td>50</td>\n",
       "      <td>1</td>\n",
       "      <td>47.8</td>\n",
       "      <td>11.00</td>\n",
       "      <td>0.5</td>\n",
       "      <td>20.15</td>\n",
       "      <td>6.94</td>\n",
       "      <td>1.0</td>\n",
       "      <td>87.39</td>\n",
       "      <td>2.5</td>\n",
       "      <td>1.75</td>\n",
       "      <td>0.75</td>\n",
       "    </tr>\n",
       "    <tr>\n",
       "      <th>1</th>\n",
       "      <td>2</td>\n",
       "      <td>2025-06-01 00:11:27</td>\n",
       "      <td>2025-06-01 00:35:35</td>\n",
       "      <td>1.0</td>\n",
       "      <td>3.93</td>\n",
       "      <td>1.0</td>\n",
       "      <td>N</td>\n",
       "      <td>158</td>\n",
       "      <td>237</td>\n",
       "      <td>1</td>\n",
       "      <td>24.7</td>\n",
       "      <td>1.00</td>\n",
       "      <td>0.5</td>\n",
       "      <td>6.09</td>\n",
       "      <td>0.00</td>\n",
       "      <td>1.0</td>\n",
       "      <td>36.54</td>\n",
       "      <td>2.5</td>\n",
       "      <td>0.00</td>\n",
       "      <td>0.75</td>\n",
       "    </tr>\n",
       "    <tr>\n",
       "      <th>2</th>\n",
       "      <td>1</td>\n",
       "      <td>2025-06-01 00:43:47</td>\n",
       "      <td>2025-06-01 00:49:16</td>\n",
       "      <td>0.0</td>\n",
       "      <td>0.70</td>\n",
       "      <td>1.0</td>\n",
       "      <td>N</td>\n",
       "      <td>230</td>\n",
       "      <td>163</td>\n",
       "      <td>1</td>\n",
       "      <td>7.2</td>\n",
       "      <td>4.25</td>\n",
       "      <td>0.5</td>\n",
       "      <td>2.59</td>\n",
       "      <td>0.00</td>\n",
       "      <td>1.0</td>\n",
       "      <td>15.54</td>\n",
       "      <td>2.5</td>\n",
       "      <td>0.00</td>\n",
       "      <td>0.75</td>\n",
       "    </tr>\n",
       "    <tr>\n",
       "      <th>3</th>\n",
       "      <td>1</td>\n",
       "      <td>2025-06-01 00:01:15</td>\n",
       "      <td>2025-06-01 00:42:16</td>\n",
       "      <td>1.0</td>\n",
       "      <td>17.00</td>\n",
       "      <td>2.0</td>\n",
       "      <td>N</td>\n",
       "      <td>132</td>\n",
       "      <td>232</td>\n",
       "      <td>1</td>\n",
       "      <td>70.0</td>\n",
       "      <td>3.25</td>\n",
       "      <td>0.5</td>\n",
       "      <td>5.00</td>\n",
       "      <td>0.00</td>\n",
       "      <td>1.0</td>\n",
       "      <td>79.75</td>\n",
       "      <td>2.5</td>\n",
       "      <td>0.00</td>\n",
       "      <td>0.75</td>\n",
       "    </tr>\n",
       "    <tr>\n",
       "      <th>4</th>\n",
       "      <td>7</td>\n",
       "      <td>2025-06-01 00:16:32</td>\n",
       "      <td>2025-06-01 00:16:32</td>\n",
       "      <td>1.0</td>\n",
       "      <td>2.22</td>\n",
       "      <td>1.0</td>\n",
       "      <td>N</td>\n",
       "      <td>48</td>\n",
       "      <td>234</td>\n",
       "      <td>1</td>\n",
       "      <td>20.5</td>\n",
       "      <td>0.00</td>\n",
       "      <td>0.5</td>\n",
       "      <td>5.25</td>\n",
       "      <td>0.00</td>\n",
       "      <td>1.0</td>\n",
       "      <td>31.50</td>\n",
       "      <td>2.5</td>\n",
       "      <td>0.00</td>\n",
       "      <td>0.75</td>\n",
       "    </tr>\n",
       "  </tbody>\n",
       "</table>\n",
       "</div>"
      ],
      "text/plain": [
       "   VendorID tpep_pickup_datetime tpep_dropoff_datetime  passenger_count  \\\n",
       "0         1  2025-06-01 00:02:50   2025-06-01 00:39:51              1.0   \n",
       "1         2  2025-06-01 00:11:27   2025-06-01 00:35:35              1.0   \n",
       "2         1  2025-06-01 00:43:47   2025-06-01 00:49:16              0.0   \n",
       "3         1  2025-06-01 00:01:15   2025-06-01 00:42:16              1.0   \n",
       "4         7  2025-06-01 00:16:32   2025-06-01 00:16:32              1.0   \n",
       "\n",
       "   trip_distance  RatecodeID store_and_fwd_flag  PULocationID  DOLocationID  \\\n",
       "0          10.00         1.0                  N           138            50   \n",
       "1           3.93         1.0                  N           158           237   \n",
       "2           0.70         1.0                  N           230           163   \n",
       "3          17.00         2.0                  N           132           232   \n",
       "4           2.22         1.0                  N            48           234   \n",
       "\n",
       "   payment_type  fare_amount  extra  mta_tax  tip_amount  tolls_amount  \\\n",
       "0             1         47.8  11.00      0.5       20.15          6.94   \n",
       "1             1         24.7   1.00      0.5        6.09          0.00   \n",
       "2             1          7.2   4.25      0.5        2.59          0.00   \n",
       "3             1         70.0   3.25      0.5        5.00          0.00   \n",
       "4             1         20.5   0.00      0.5        5.25          0.00   \n",
       "\n",
       "   improvement_surcharge  total_amount  congestion_surcharge  Airport_fee  \\\n",
       "0                    1.0         87.39                   2.5         1.75   \n",
       "1                    1.0         36.54                   2.5         0.00   \n",
       "2                    1.0         15.54                   2.5         0.00   \n",
       "3                    1.0         79.75                   2.5         0.00   \n",
       "4                    1.0         31.50                   2.5         0.00   \n",
       "\n",
       "   cbd_congestion_fee  \n",
       "0                0.75  \n",
       "1                0.75  \n",
       "2                0.75  \n",
       "3                0.75  \n",
       "4                0.75  "
      ]
     },
     "metadata": {},
     "output_type": "display_data"
    },
    {
     "data": {
      "text/html": [
       "<div>\n",
       "<style scoped>\n",
       "    .dataframe tbody tr th:only-of-type {\n",
       "        vertical-align: middle;\n",
       "    }\n",
       "\n",
       "    .dataframe tbody tr th {\n",
       "        vertical-align: top;\n",
       "    }\n",
       "\n",
       "    .dataframe thead th {\n",
       "        text-align: right;\n",
       "    }\n",
       "</style>\n",
       "<table border=\"1\" class=\"dataframe\">\n",
       "  <thead>\n",
       "    <tr style=\"text-align: right;\">\n",
       "      <th></th>\n",
       "      <th>VendorID</th>\n",
       "      <th>tpep_pickup_datetime</th>\n",
       "      <th>tpep_dropoff_datetime</th>\n",
       "      <th>passenger_count</th>\n",
       "      <th>trip_distance</th>\n",
       "      <th>RatecodeID</th>\n",
       "      <th>store_and_fwd_flag</th>\n",
       "      <th>PULocationID</th>\n",
       "      <th>DOLocationID</th>\n",
       "      <th>payment_type</th>\n",
       "      <th>fare_amount</th>\n",
       "      <th>extra</th>\n",
       "      <th>mta_tax</th>\n",
       "      <th>tip_amount</th>\n",
       "      <th>tolls_amount</th>\n",
       "      <th>improvement_surcharge</th>\n",
       "      <th>total_amount</th>\n",
       "      <th>congestion_surcharge</th>\n",
       "      <th>Airport_fee</th>\n",
       "      <th>cbd_congestion_fee</th>\n",
       "    </tr>\n",
       "  </thead>\n",
       "  <tbody>\n",
       "    <tr>\n",
       "      <th>4322955</th>\n",
       "      <td>2</td>\n",
       "      <td>2025-06-30 23:43:46</td>\n",
       "      <td>2025-06-30 23:48:53</td>\n",
       "      <td>NaN</td>\n",
       "      <td>1.03</td>\n",
       "      <td>NaN</td>\n",
       "      <td>None</td>\n",
       "      <td>141</td>\n",
       "      <td>262</td>\n",
       "      <td>0</td>\n",
       "      <td>10.08</td>\n",
       "      <td>0.0</td>\n",
       "      <td>0.5</td>\n",
       "      <td>0.0</td>\n",
       "      <td>0.0</td>\n",
       "      <td>1.0</td>\n",
       "      <td>14.08</td>\n",
       "      <td>NaN</td>\n",
       "      <td>NaN</td>\n",
       "      <td>0.00</td>\n",
       "    </tr>\n",
       "    <tr>\n",
       "      <th>4322956</th>\n",
       "      <td>2</td>\n",
       "      <td>2025-06-30 23:19:59</td>\n",
       "      <td>2025-06-30 23:32:47</td>\n",
       "      <td>NaN</td>\n",
       "      <td>3.34</td>\n",
       "      <td>NaN</td>\n",
       "      <td>None</td>\n",
       "      <td>129</td>\n",
       "      <td>70</td>\n",
       "      <td>0</td>\n",
       "      <td>12.23</td>\n",
       "      <td>0.0</td>\n",
       "      <td>0.5</td>\n",
       "      <td>0.0</td>\n",
       "      <td>0.0</td>\n",
       "      <td>1.0</td>\n",
       "      <td>13.73</td>\n",
       "      <td>NaN</td>\n",
       "      <td>NaN</td>\n",
       "      <td>0.00</td>\n",
       "    </tr>\n",
       "    <tr>\n",
       "      <th>4322957</th>\n",
       "      <td>2</td>\n",
       "      <td>2025-06-30 23:35:59</td>\n",
       "      <td>2025-06-30 23:51:56</td>\n",
       "      <td>NaN</td>\n",
       "      <td>3.79</td>\n",
       "      <td>NaN</td>\n",
       "      <td>None</td>\n",
       "      <td>166</td>\n",
       "      <td>243</td>\n",
       "      <td>0</td>\n",
       "      <td>16.95</td>\n",
       "      <td>0.0</td>\n",
       "      <td>0.5</td>\n",
       "      <td>0.0</td>\n",
       "      <td>0.0</td>\n",
       "      <td>1.0</td>\n",
       "      <td>18.45</td>\n",
       "      <td>NaN</td>\n",
       "      <td>NaN</td>\n",
       "      <td>0.00</td>\n",
       "    </tr>\n",
       "    <tr>\n",
       "      <th>4322958</th>\n",
       "      <td>2</td>\n",
       "      <td>2025-06-30 23:00:28</td>\n",
       "      <td>2025-06-30 23:15:01</td>\n",
       "      <td>NaN</td>\n",
       "      <td>3.85</td>\n",
       "      <td>NaN</td>\n",
       "      <td>None</td>\n",
       "      <td>238</td>\n",
       "      <td>42</td>\n",
       "      <td>0</td>\n",
       "      <td>18.40</td>\n",
       "      <td>0.0</td>\n",
       "      <td>0.5</td>\n",
       "      <td>0.0</td>\n",
       "      <td>0.0</td>\n",
       "      <td>1.0</td>\n",
       "      <td>22.40</td>\n",
       "      <td>NaN</td>\n",
       "      <td>NaN</td>\n",
       "      <td>0.00</td>\n",
       "    </tr>\n",
       "    <tr>\n",
       "      <th>4322959</th>\n",
       "      <td>2</td>\n",
       "      <td>2025-06-30 23:10:59</td>\n",
       "      <td>2025-06-30 23:19:54</td>\n",
       "      <td>NaN</td>\n",
       "      <td>2.22</td>\n",
       "      <td>NaN</td>\n",
       "      <td>None</td>\n",
       "      <td>246</td>\n",
       "      <td>230</td>\n",
       "      <td>0</td>\n",
       "      <td>12.16</td>\n",
       "      <td>0.0</td>\n",
       "      <td>0.5</td>\n",
       "      <td>0.0</td>\n",
       "      <td>0.0</td>\n",
       "      <td>1.0</td>\n",
       "      <td>16.91</td>\n",
       "      <td>NaN</td>\n",
       "      <td>NaN</td>\n",
       "      <td>0.75</td>\n",
       "    </tr>\n",
       "  </tbody>\n",
       "</table>\n",
       "</div>"
      ],
      "text/plain": [
       "         VendorID tpep_pickup_datetime tpep_dropoff_datetime  passenger_count  \\\n",
       "4322955         2  2025-06-30 23:43:46   2025-06-30 23:48:53              NaN   \n",
       "4322956         2  2025-06-30 23:19:59   2025-06-30 23:32:47              NaN   \n",
       "4322957         2  2025-06-30 23:35:59   2025-06-30 23:51:56              NaN   \n",
       "4322958         2  2025-06-30 23:00:28   2025-06-30 23:15:01              NaN   \n",
       "4322959         2  2025-06-30 23:10:59   2025-06-30 23:19:54              NaN   \n",
       "\n",
       "         trip_distance  RatecodeID store_and_fwd_flag  PULocationID  \\\n",
       "4322955           1.03         NaN               None           141   \n",
       "4322956           3.34         NaN               None           129   \n",
       "4322957           3.79         NaN               None           166   \n",
       "4322958           3.85         NaN               None           238   \n",
       "4322959           2.22         NaN               None           246   \n",
       "\n",
       "         DOLocationID  payment_type  fare_amount  extra  mta_tax  tip_amount  \\\n",
       "4322955           262             0        10.08    0.0      0.5         0.0   \n",
       "4322956            70             0        12.23    0.0      0.5         0.0   \n",
       "4322957           243             0        16.95    0.0      0.5         0.0   \n",
       "4322958            42             0        18.40    0.0      0.5         0.0   \n",
       "4322959           230             0        12.16    0.0      0.5         0.0   \n",
       "\n",
       "         tolls_amount  improvement_surcharge  total_amount  \\\n",
       "4322955           0.0                    1.0         14.08   \n",
       "4322956           0.0                    1.0         13.73   \n",
       "4322957           0.0                    1.0         18.45   \n",
       "4322958           0.0                    1.0         22.40   \n",
       "4322959           0.0                    1.0         16.91   \n",
       "\n",
       "         congestion_surcharge  Airport_fee  cbd_congestion_fee  \n",
       "4322955                   NaN          NaN                0.00  \n",
       "4322956                   NaN          NaN                0.00  \n",
       "4322957                   NaN          NaN                0.00  \n",
       "4322958                   NaN          NaN                0.00  \n",
       "4322959                   NaN          NaN                0.75  "
      ]
     },
     "metadata": {},
     "output_type": "display_data"
    }
   ],
   "source": [
    "# Preview Data\n",
    "display(trip_data_06.head())\n",
    "display(trip_data_06.tail())"
   ]
  },
  {
   "cell_type": "markdown",
   "id": "2d135815",
   "metadata": {},
   "source": [
    "# Data Understanding  "
   ]
  },
  {
   "cell_type": "markdown",
   "id": "f209aee2",
   "metadata": {},
   "source": [
    "## Data Inspection"
   ]
  },
  {
   "cell_type": "markdown",
   "id": "032fee75",
   "metadata": {},
   "source": [
    "### Taxi Zone"
   ]
  },
  {
   "cell_type": "code",
   "execution_count": 9,
   "id": "a0c5eff4",
   "metadata": {},
   "outputs": [
    {
     "name": "stdout",
     "output_type": "stream",
     "text": [
      "<class 'pandas.core.frame.DataFrame'>\n",
      "RangeIndex: 265 entries, 0 to 264\n",
      "Data columns (total 4 columns):\n",
      " #   Column        Non-Null Count  Dtype \n",
      "---  ------        --------------  ----- \n",
      " 0   LocationID    265 non-null    int64 \n",
      " 1   Borough       264 non-null    object\n",
      " 2   Zone          264 non-null    object\n",
      " 3   service_zone  263 non-null    object\n",
      "dtypes: int64(1), object(3)\n",
      "memory usage: 8.4+ KB\n"
     ]
    }
   ],
   "source": [
    "taxi_zone.info()"
   ]
  },
  {
   "cell_type": "code",
   "execution_count": 10,
   "id": "b0d1bd66",
   "metadata": {},
   "outputs": [
    {
     "name": "stdout",
     "output_type": "stream",
     "text": [
      "<class 'pandas.core.frame.DataFrame'>\n",
      "RangeIndex: 4322960 entries, 0 to 4322959\n",
      "Data columns (total 20 columns):\n",
      " #   Column                 Dtype         \n",
      "---  ------                 -----         \n",
      " 0   VendorID               int32         \n",
      " 1   tpep_pickup_datetime   datetime64[us]\n",
      " 2   tpep_dropoff_datetime  datetime64[us]\n",
      " 3   passenger_count        float64       \n",
      " 4   trip_distance          float64       \n",
      " 5   RatecodeID             float64       \n",
      " 6   store_and_fwd_flag     object        \n",
      " 7   PULocationID           int32         \n",
      " 8   DOLocationID           int32         \n",
      " 9   payment_type           int64         \n",
      " 10  fare_amount            float64       \n",
      " 11  extra                  float64       \n",
      " 12  mta_tax                float64       \n",
      " 13  tip_amount             float64       \n",
      " 14  tolls_amount           float64       \n",
      " 15  improvement_surcharge  float64       \n",
      " 16  total_amount           float64       \n",
      " 17  congestion_surcharge   float64       \n",
      " 18  Airport_fee            float64       \n",
      " 19  cbd_congestion_fee     float64       \n",
      "dtypes: datetime64[us](2), float64(13), int32(3), int64(1), object(1)\n",
      "memory usage: 610.2+ MB\n"
     ]
    }
   ],
   "source": [
    "trip_data_06.info()"
   ]
  },
  {
   "cell_type": "code",
   "execution_count": 12,
   "id": "51a53c07",
   "metadata": {},
   "outputs": [
    {
     "data": {
      "text/plain": [
       "LocationID      0\n",
       "Borough         1\n",
       "Zone            1\n",
       "service_zone    2\n",
       "dtype: int64"
      ]
     },
     "execution_count": 12,
     "metadata": {},
     "output_type": "execute_result"
    }
   ],
   "source": [
    "# Check Missing Value (Taxi Zone)\n",
    "taxi_zone.isna().sum()"
   ]
  },
  {
   "cell_type": "code",
   "execution_count": 15,
   "id": "5702cdfd",
   "metadata": {},
   "outputs": [
    {
     "data": {
      "text/plain": [
       "VendorID                       0\n",
       "tpep_pickup_datetime           0\n",
       "tpep_dropoff_datetime          0\n",
       "passenger_count          1212946\n",
       "trip_distance                  0\n",
       "RatecodeID               1212946\n",
       "store_and_fwd_flag       1212946\n",
       "PULocationID                   0\n",
       "DOLocationID                   0\n",
       "payment_type                   0\n",
       "fare_amount                    0\n",
       "extra                          0\n",
       "mta_tax                        0\n",
       "tip_amount                     0\n",
       "tolls_amount                   0\n",
       "improvement_surcharge          0\n",
       "total_amount                   0\n",
       "congestion_surcharge     1212946\n",
       "Airport_fee              1212946\n",
       "cbd_congestion_fee             0\n",
       "dtype: int64"
      ]
     },
     "execution_count": 15,
     "metadata": {},
     "output_type": "execute_result"
    }
   ],
   "source": [
    "# Chekk Missing Value (Trip Data)\n",
    "trip_data_06.isna().sum()"
   ]
  },
  {
   "cell_type": "code",
   "execution_count": 14,
   "id": "99eececa",
   "metadata": {},
   "outputs": [
    {
     "data": {
      "text/html": [
       "<div>\n",
       "<style scoped>\n",
       "    .dataframe tbody tr th:only-of-type {\n",
       "        vertical-align: middle;\n",
       "    }\n",
       "\n",
       "    .dataframe tbody tr th {\n",
       "        vertical-align: top;\n",
       "    }\n",
       "\n",
       "    .dataframe thead th {\n",
       "        text-align: right;\n",
       "    }\n",
       "</style>\n",
       "<table border=\"1\" class=\"dataframe\">\n",
       "  <thead>\n",
       "    <tr style=\"text-align: right;\">\n",
       "      <th></th>\n",
       "      <th>LocationID</th>\n",
       "      <th>Borough</th>\n",
       "      <th>Zone</th>\n",
       "      <th>service_zone</th>\n",
       "    </tr>\n",
       "  </thead>\n",
       "  <tbody>\n",
       "    <tr>\n",
       "      <th>263</th>\n",
       "      <td>264</td>\n",
       "      <td>Unknown</td>\n",
       "      <td>NaN</td>\n",
       "      <td>NaN</td>\n",
       "    </tr>\n",
       "    <tr>\n",
       "      <th>264</th>\n",
       "      <td>265</td>\n",
       "      <td>NaN</td>\n",
       "      <td>Outside of NYC</td>\n",
       "      <td>NaN</td>\n",
       "    </tr>\n",
       "  </tbody>\n",
       "</table>\n",
       "</div>"
      ],
      "text/plain": [
       "     LocationID  Borough            Zone service_zone\n",
       "263         264  Unknown             NaN          NaN\n",
       "264         265      NaN  Outside of NYC          NaN"
      ]
     },
     "execution_count": 14,
     "metadata": {},
     "output_type": "execute_result"
    }
   ],
   "source": [
    "# Preview Missing Value (Taxi Zone)\n",
    "taxi_zone[taxi_zone[\"service_zone\"].isna()]"
   ]
  },
  {
   "cell_type": "code",
   "execution_count": 17,
   "id": "1a0451b6",
   "metadata": {},
   "outputs": [
    {
     "data": {
      "text/plain": [
       "Index([3110014, 3110015, 3110016, 3110017, 3110018, 3110019, 3110020, 3110021,\n",
       "       3110022, 3110023,\n",
       "       ...\n",
       "       4322950, 4322951, 4322952, 4322953, 4322954, 4322955, 4322956, 4322957,\n",
       "       4322958, 4322959],\n",
       "      dtype='int64', length=1212946)"
      ]
     },
     "execution_count": 17,
     "metadata": {},
     "output_type": "execute_result"
    }
   ],
   "source": [
    "# Preview Missing Value (Trip Data)\n",
    "trip_data_06[trip_data_06[\"RatecodeID\"].isna()].index"
   ]
  },
  {
   "cell_type": "code",
   "execution_count": 18,
   "id": "93e5d65e",
   "metadata": {},
   "outputs": [
    {
     "data": {
      "text/plain": [
       "False"
      ]
     },
     "execution_count": 18,
     "metadata": {},
     "output_type": "execute_result"
    }
   ],
   "source": [
    "# check missing index\n",
    "range(3110014,len(trip_data_06)+1) == trip_data_06[trip_data_06[\"RatecodeID\"].isna()].index.tolist()"
   ]
  },
  {
   "cell_type": "code",
   "execution_count": 19,
   "id": "b7db6541",
   "metadata": {},
   "outputs": [
    {
     "data": {
      "text/plain": [
       "False"
      ]
     },
     "execution_count": 19,
     "metadata": {},
     "output_type": "execute_result"
    }
   ],
   "source": [
    "# check missing index2\n",
    "range(3110014,4322959+1) == trip_data_06[trip_data_06[\"RatecodeID\"].isna()].index.tolist()"
   ]
  },
  {
   "cell_type": "code",
   "execution_count": 20,
   "id": "ae690e60",
   "metadata": {},
   "outputs": [
    {
     "data": {
      "text/plain": [
       "np.int64(0)"
      ]
     },
     "execution_count": 20,
     "metadata": {},
     "output_type": "execute_result"
    }
   ],
   "source": [
    "# Check Duplicates (Taxi Zone)\n",
    "taxi_zone.duplicated().sum()"
   ]
  },
  {
   "cell_type": "code",
   "execution_count": null,
   "id": "a7a6f7a2",
   "metadata": {},
   "outputs": [
    {
     "data": {
      "text/html": [
       "<div>\n",
       "<style scoped>\n",
       "    .dataframe tbody tr th:only-of-type {\n",
       "        vertical-align: middle;\n",
       "    }\n",
       "\n",
       "    .dataframe tbody tr th {\n",
       "        vertical-align: top;\n",
       "    }\n",
       "\n",
       "    .dataframe thead th {\n",
       "        text-align: right;\n",
       "    }\n",
       "</style>\n",
       "<table border=\"1\" class=\"dataframe\">\n",
       "  <thead>\n",
       "    <tr style=\"text-align: right;\">\n",
       "      <th></th>\n",
       "      <th>LocationID</th>\n",
       "      <th>Borough</th>\n",
       "      <th>Zone</th>\n",
       "      <th>service_zone</th>\n",
       "    </tr>\n",
       "  </thead>\n",
       "  <tbody>\n",
       "    <tr>\n",
       "      <th>count</th>\n",
       "      <td>265.000000</td>\n",
       "      <td>264</td>\n",
       "      <td>264</td>\n",
       "      <td>263</td>\n",
       "    </tr>\n",
       "    <tr>\n",
       "      <th>unique</th>\n",
       "      <td>NaN</td>\n",
       "      <td>7</td>\n",
       "      <td>261</td>\n",
       "      <td>4</td>\n",
       "    </tr>\n",
       "    <tr>\n",
       "      <th>top</th>\n",
       "      <td>NaN</td>\n",
       "      <td>Queens</td>\n",
       "      <td>Governor's Island/Ellis Island/Liberty Island</td>\n",
       "      <td>Boro Zone</td>\n",
       "    </tr>\n",
       "    <tr>\n",
       "      <th>freq</th>\n",
       "      <td>NaN</td>\n",
       "      <td>69</td>\n",
       "      <td>3</td>\n",
       "      <td>205</td>\n",
       "    </tr>\n",
       "    <tr>\n",
       "      <th>mean</th>\n",
       "      <td>133.000000</td>\n",
       "      <td>NaN</td>\n",
       "      <td>NaN</td>\n",
       "      <td>NaN</td>\n",
       "    </tr>\n",
       "    <tr>\n",
       "      <th>std</th>\n",
       "      <td>76.643112</td>\n",
       "      <td>NaN</td>\n",
       "      <td>NaN</td>\n",
       "      <td>NaN</td>\n",
       "    </tr>\n",
       "    <tr>\n",
       "      <th>min</th>\n",
       "      <td>1.000000</td>\n",
       "      <td>NaN</td>\n",
       "      <td>NaN</td>\n",
       "      <td>NaN</td>\n",
       "    </tr>\n",
       "    <tr>\n",
       "      <th>25%</th>\n",
       "      <td>67.000000</td>\n",
       "      <td>NaN</td>\n",
       "      <td>NaN</td>\n",
       "      <td>NaN</td>\n",
       "    </tr>\n",
       "    <tr>\n",
       "      <th>50%</th>\n",
       "      <td>133.000000</td>\n",
       "      <td>NaN</td>\n",
       "      <td>NaN</td>\n",
       "      <td>NaN</td>\n",
       "    </tr>\n",
       "    <tr>\n",
       "      <th>75%</th>\n",
       "      <td>199.000000</td>\n",
       "      <td>NaN</td>\n",
       "      <td>NaN</td>\n",
       "      <td>NaN</td>\n",
       "    </tr>\n",
       "    <tr>\n",
       "      <th>max</th>\n",
       "      <td>265.000000</td>\n",
       "      <td>NaN</td>\n",
       "      <td>NaN</td>\n",
       "      <td>NaN</td>\n",
       "    </tr>\n",
       "  </tbody>\n",
       "</table>\n",
       "</div>"
      ],
      "text/plain": [
       "        LocationID Borough                                           Zone  \\\n",
       "count   265.000000     264                                            264   \n",
       "unique         NaN       7                                            261   \n",
       "top            NaN  Queens  Governor's Island/Ellis Island/Liberty Island   \n",
       "freq           NaN      69                                              3   \n",
       "mean    133.000000     NaN                                            NaN   \n",
       "std      76.643112     NaN                                            NaN   \n",
       "min       1.000000     NaN                                            NaN   \n",
       "25%      67.000000     NaN                                            NaN   \n",
       "50%     133.000000     NaN                                            NaN   \n",
       "75%     199.000000     NaN                                            NaN   \n",
       "max     265.000000     NaN                                            NaN   \n",
       "\n",
       "       service_zone  \n",
       "count           263  \n",
       "unique            4  \n",
       "top       Boro Zone  \n",
       "freq            205  \n",
       "mean            NaN  \n",
       "std             NaN  \n",
       "min             NaN  \n",
       "25%             NaN  \n",
       "50%             NaN  \n",
       "75%             NaN  \n",
       "max             NaN  "
      ]
     },
     "execution_count": 21,
     "metadata": {},
     "output_type": "execute_result"
    }
   ],
   "source": [
    "# Check Missing Value (Taxi Zone)\n",
    "taxi_zone.describe(include='all')"
   ]
  },
  {
   "cell_type": "markdown",
   "id": "8cfe9920",
   "metadata": {},
   "source": [
    "> Something weird with zone?  \n",
    "> Zone mode is `Governor's Island/Ellis Island/Liberty Island` w/ freq. 3"
   ]
  },
  {
   "cell_type": "code",
   "execution_count": 22,
   "id": "344888b9",
   "metadata": {},
   "outputs": [
    {
     "data": {
      "text/html": [
       "<div>\n",
       "<style scoped>\n",
       "    .dataframe tbody tr th:only-of-type {\n",
       "        vertical-align: middle;\n",
       "    }\n",
       "\n",
       "    .dataframe tbody tr th {\n",
       "        vertical-align: top;\n",
       "    }\n",
       "\n",
       "    .dataframe thead th {\n",
       "        text-align: right;\n",
       "    }\n",
       "</style>\n",
       "<table border=\"1\" class=\"dataframe\">\n",
       "  <thead>\n",
       "    <tr style=\"text-align: right;\">\n",
       "      <th></th>\n",
       "      <th>LocationID</th>\n",
       "      <th>Borough</th>\n",
       "      <th>Zone</th>\n",
       "      <th>service_zone</th>\n",
       "    </tr>\n",
       "  </thead>\n",
       "  <tbody>\n",
       "    <tr>\n",
       "      <th>102</th>\n",
       "      <td>103</td>\n",
       "      <td>Manhattan</td>\n",
       "      <td>Governor's Island/Ellis Island/Liberty Island</td>\n",
       "      <td>Yellow Zone</td>\n",
       "    </tr>\n",
       "    <tr>\n",
       "      <th>103</th>\n",
       "      <td>104</td>\n",
       "      <td>Manhattan</td>\n",
       "      <td>Governor's Island/Ellis Island/Liberty Island</td>\n",
       "      <td>Yellow Zone</td>\n",
       "    </tr>\n",
       "    <tr>\n",
       "      <th>104</th>\n",
       "      <td>105</td>\n",
       "      <td>Manhattan</td>\n",
       "      <td>Governor's Island/Ellis Island/Liberty Island</td>\n",
       "      <td>Yellow Zone</td>\n",
       "    </tr>\n",
       "  </tbody>\n",
       "</table>\n",
       "</div>"
      ],
      "text/plain": [
       "     LocationID    Borough                                           Zone  \\\n",
       "102         103  Manhattan  Governor's Island/Ellis Island/Liberty Island   \n",
       "103         104  Manhattan  Governor's Island/Ellis Island/Liberty Island   \n",
       "104         105  Manhattan  Governor's Island/Ellis Island/Liberty Island   \n",
       "\n",
       "    service_zone  \n",
       "102  Yellow Zone  \n",
       "103  Yellow Zone  \n",
       "104  Yellow Zone  "
      ]
     },
     "execution_count": 22,
     "metadata": {},
     "output_type": "execute_result"
    }
   ],
   "source": [
    "# Preview taxi zone with same name but different Loc.ID\n",
    "taxi_zone[taxi_zone[\"Zone\"]==\"Governor's Island/Ellis Island/Liberty Island\"]"
   ]
  },
  {
   "cell_type": "markdown",
   "id": "9f6918e3",
   "metadata": {},
   "source": [
    "### Trip Data (06)"
   ]
  },
  {
   "cell_type": "markdown",
   "id": "bbb508de",
   "metadata": {},
   "source": [
    "> **Univariate**"
   ]
  },
  {
   "cell_type": "code",
   "execution_count": 23,
   "id": "b13e96e3",
   "metadata": {},
   "outputs": [
    {
     "data": {
      "text/html": [
       "<div>\n",
       "<style scoped>\n",
       "    .dataframe tbody tr th:only-of-type {\n",
       "        vertical-align: middle;\n",
       "    }\n",
       "\n",
       "    .dataframe tbody tr th {\n",
       "        vertical-align: top;\n",
       "    }\n",
       "\n",
       "    .dataframe thead th {\n",
       "        text-align: right;\n",
       "    }\n",
       "</style>\n",
       "<table border=\"1\" class=\"dataframe\">\n",
       "  <thead>\n",
       "    <tr style=\"text-align: right;\">\n",
       "      <th></th>\n",
       "      <th>VendorID</th>\n",
       "      <th>tpep_pickup_datetime</th>\n",
       "      <th>tpep_dropoff_datetime</th>\n",
       "      <th>passenger_count</th>\n",
       "      <th>trip_distance</th>\n",
       "      <th>RatecodeID</th>\n",
       "      <th>PULocationID</th>\n",
       "      <th>DOLocationID</th>\n",
       "      <th>payment_type</th>\n",
       "      <th>fare_amount</th>\n",
       "      <th>extra</th>\n",
       "      <th>mta_tax</th>\n",
       "      <th>tip_amount</th>\n",
       "      <th>tolls_amount</th>\n",
       "      <th>improvement_surcharge</th>\n",
       "      <th>total_amount</th>\n",
       "      <th>congestion_surcharge</th>\n",
       "      <th>Airport_fee</th>\n",
       "      <th>cbd_congestion_fee</th>\n",
       "    </tr>\n",
       "  </thead>\n",
       "  <tbody>\n",
       "    <tr>\n",
       "      <th>count</th>\n",
       "      <td>4.322960e+06</td>\n",
       "      <td>4322960</td>\n",
       "      <td>4322960</td>\n",
       "      <td>3.110014e+06</td>\n",
       "      <td>4.322960e+06</td>\n",
       "      <td>3.110014e+06</td>\n",
       "      <td>4.322960e+06</td>\n",
       "      <td>4.322960e+06</td>\n",
       "      <td>4.322960e+06</td>\n",
       "      <td>4.322960e+06</td>\n",
       "      <td>4.322960e+06</td>\n",
       "      <td>4.322960e+06</td>\n",
       "      <td>4.322960e+06</td>\n",
       "      <td>4.322960e+06</td>\n",
       "      <td>4.322960e+06</td>\n",
       "      <td>4.322960e+06</td>\n",
       "      <td>3.110014e+06</td>\n",
       "      <td>3.110014e+06</td>\n",
       "      <td>4.322960e+06</td>\n",
       "    </tr>\n",
       "    <tr>\n",
       "      <th>mean</th>\n",
       "      <td>1.887364e+00</td>\n",
       "      <td>2025-06-15 23:11:14.554075</td>\n",
       "      <td>2025-06-15 23:28:39.149324</td>\n",
       "      <td>1.298270e+00</td>\n",
       "      <td>7.478361e+00</td>\n",
       "      <td>2.599210e+00</td>\n",
       "      <td>1.600238e+02</td>\n",
       "      <td>1.601093e+02</td>\n",
       "      <td>8.912664e-01</td>\n",
       "      <td>1.897800e+01</td>\n",
       "      <td>1.129404e+00</td>\n",
       "      <td>4.772766e-01</td>\n",
       "      <td>2.752655e+00</td>\n",
       "      <td>5.100199e-01</td>\n",
       "      <td>9.545138e-01</td>\n",
       "      <td>2.738722e+01</td>\n",
       "      <td>2.181600e+00</td>\n",
       "      <td>1.588413e-01</td>\n",
       "      <td>5.332318e-01</td>\n",
       "    </tr>\n",
       "    <tr>\n",
       "      <th>min</th>\n",
       "      <td>1.000000e+00</td>\n",
       "      <td>2025-05-31 22:34:26</td>\n",
       "      <td>2025-05-31 22:43:36</td>\n",
       "      <td>0.000000e+00</td>\n",
       "      <td>0.000000e+00</td>\n",
       "      <td>1.000000e+00</td>\n",
       "      <td>1.000000e+00</td>\n",
       "      <td>1.000000e+00</td>\n",
       "      <td>0.000000e+00</td>\n",
       "      <td>-9.900000e+02</td>\n",
       "      <td>-7.500000e+00</td>\n",
       "      <td>-2.174000e+01</td>\n",
       "      <td>-7.007000e+01</td>\n",
       "      <td>-1.090600e+02</td>\n",
       "      <td>-1.000000e+00</td>\n",
       "      <td>-9.942500e+02</td>\n",
       "      <td>-2.500000e+00</td>\n",
       "      <td>-1.750000e+00</td>\n",
       "      <td>-7.500000e-01</td>\n",
       "    </tr>\n",
       "    <tr>\n",
       "      <th>25%</th>\n",
       "      <td>2.000000e+00</td>\n",
       "      <td>2025-06-08 05:03:50.750000</td>\n",
       "      <td>2025-06-08 05:19:49.500000</td>\n",
       "      <td>1.000000e+00</td>\n",
       "      <td>1.070000e+00</td>\n",
       "      <td>1.000000e+00</td>\n",
       "      <td>1.140000e+02</td>\n",
       "      <td>1.070000e+02</td>\n",
       "      <td>0.000000e+00</td>\n",
       "      <td>9.300000e+00</td>\n",
       "      <td>0.000000e+00</td>\n",
       "      <td>5.000000e-01</td>\n",
       "      <td>0.000000e+00</td>\n",
       "      <td>0.000000e+00</td>\n",
       "      <td>1.000000e+00</td>\n",
       "      <td>1.601000e+01</td>\n",
       "      <td>2.500000e+00</td>\n",
       "      <td>0.000000e+00</td>\n",
       "      <td>0.000000e+00</td>\n",
       "    </tr>\n",
       "    <tr>\n",
       "      <th>50%</th>\n",
       "      <td>2.000000e+00</td>\n",
       "      <td>2025-06-15 17:58:00</td>\n",
       "      <td>2025-06-15 18:15:00.500000</td>\n",
       "      <td>1.000000e+00</td>\n",
       "      <td>1.920000e+00</td>\n",
       "      <td>1.000000e+00</td>\n",
       "      <td>1.610000e+02</td>\n",
       "      <td>1.620000e+02</td>\n",
       "      <td>1.000000e+00</td>\n",
       "      <td>1.420000e+01</td>\n",
       "      <td>0.000000e+00</td>\n",
       "      <td>5.000000e-01</td>\n",
       "      <td>2.000000e+00</td>\n",
       "      <td>0.000000e+00</td>\n",
       "      <td>1.000000e+00</td>\n",
       "      <td>2.175000e+01</td>\n",
       "      <td>2.500000e+00</td>\n",
       "      <td>0.000000e+00</td>\n",
       "      <td>7.500000e-01</td>\n",
       "    </tr>\n",
       "    <tr>\n",
       "      <th>75%</th>\n",
       "      <td>2.000000e+00</td>\n",
       "      <td>2025-06-23 13:25:21</td>\n",
       "      <td>2025-06-23 13:44:24.250000</td>\n",
       "      <td>1.000000e+00</td>\n",
       "      <td>3.900000e+00</td>\n",
       "      <td>1.000000e+00</td>\n",
       "      <td>2.310000e+02</td>\n",
       "      <td>2.330000e+02</td>\n",
       "      <td>1.000000e+00</td>\n",
       "      <td>2.397000e+01</td>\n",
       "      <td>2.500000e+00</td>\n",
       "      <td>5.000000e-01</td>\n",
       "      <td>3.870000e+00</td>\n",
       "      <td>0.000000e+00</td>\n",
       "      <td>1.000000e+00</td>\n",
       "      <td>3.139000e+01</td>\n",
       "      <td>2.500000e+00</td>\n",
       "      <td>0.000000e+00</td>\n",
       "      <td>7.500000e-01</td>\n",
       "    </tr>\n",
       "    <tr>\n",
       "      <th>max</th>\n",
       "      <td>7.000000e+00</td>\n",
       "      <td>2025-06-30 23:59:59</td>\n",
       "      <td>2025-07-01 22:36:42</td>\n",
       "      <td>9.000000e+00</td>\n",
       "      <td>2.612624e+05</td>\n",
       "      <td>9.900000e+01</td>\n",
       "      <td>2.650000e+02</td>\n",
       "      <td>2.650000e+02</td>\n",
       "      <td>5.000000e+00</td>\n",
       "      <td>3.254780e+05</td>\n",
       "      <td>4.246000e+01</td>\n",
       "      <td>1.050000e+01</td>\n",
       "      <td>9.609400e+02</td>\n",
       "      <td>7.160500e+02</td>\n",
       "      <td>1.000000e+00</td>\n",
       "      <td>3.255285e+05</td>\n",
       "      <td>2.500000e+00</td>\n",
       "      <td>6.750000e+00</td>\n",
       "      <td>1.250000e+00</td>\n",
       "    </tr>\n",
       "    <tr>\n",
       "      <th>std</th>\n",
       "      <td>7.588800e-01</td>\n",
       "      <td>NaN</td>\n",
       "      <td>NaN</td>\n",
       "      <td>7.330376e-01</td>\n",
       "      <td>6.942321e+02</td>\n",
       "      <td>1.200176e+01</td>\n",
       "      <td>6.686664e+01</td>\n",
       "      <td>7.091911e+01</td>\n",
       "      <td>7.697741e-01</td>\n",
       "      <td>1.577826e+02</td>\n",
       "      <td>1.829902e+00</td>\n",
       "      <td>1.407145e-01</td>\n",
       "      <td>4.022928e+00</td>\n",
       "      <td>2.154179e+00</td>\n",
       "      <td>2.783022e-01</td>\n",
       "      <td>1.583694e+02</td>\n",
       "      <td>9.632568e-01</td>\n",
       "      <td>5.556769e-01</td>\n",
       "      <td>3.585827e-01</td>\n",
       "    </tr>\n",
       "  </tbody>\n",
       "</table>\n",
       "</div>"
      ],
      "text/plain": [
       "           VendorID        tpep_pickup_datetime       tpep_dropoff_datetime  \\\n",
       "count  4.322960e+06                     4322960                     4322960   \n",
       "mean   1.887364e+00  2025-06-15 23:11:14.554075  2025-06-15 23:28:39.149324   \n",
       "min    1.000000e+00         2025-05-31 22:34:26         2025-05-31 22:43:36   \n",
       "25%    2.000000e+00  2025-06-08 05:03:50.750000  2025-06-08 05:19:49.500000   \n",
       "50%    2.000000e+00         2025-06-15 17:58:00  2025-06-15 18:15:00.500000   \n",
       "75%    2.000000e+00         2025-06-23 13:25:21  2025-06-23 13:44:24.250000   \n",
       "max    7.000000e+00         2025-06-30 23:59:59         2025-07-01 22:36:42   \n",
       "std    7.588800e-01                         NaN                         NaN   \n",
       "\n",
       "       passenger_count  trip_distance    RatecodeID  PULocationID  \\\n",
       "count     3.110014e+06   4.322960e+06  3.110014e+06  4.322960e+06   \n",
       "mean      1.298270e+00   7.478361e+00  2.599210e+00  1.600238e+02   \n",
       "min       0.000000e+00   0.000000e+00  1.000000e+00  1.000000e+00   \n",
       "25%       1.000000e+00   1.070000e+00  1.000000e+00  1.140000e+02   \n",
       "50%       1.000000e+00   1.920000e+00  1.000000e+00  1.610000e+02   \n",
       "75%       1.000000e+00   3.900000e+00  1.000000e+00  2.310000e+02   \n",
       "max       9.000000e+00   2.612624e+05  9.900000e+01  2.650000e+02   \n",
       "std       7.330376e-01   6.942321e+02  1.200176e+01  6.686664e+01   \n",
       "\n",
       "       DOLocationID  payment_type   fare_amount         extra       mta_tax  \\\n",
       "count  4.322960e+06  4.322960e+06  4.322960e+06  4.322960e+06  4.322960e+06   \n",
       "mean   1.601093e+02  8.912664e-01  1.897800e+01  1.129404e+00  4.772766e-01   \n",
       "min    1.000000e+00  0.000000e+00 -9.900000e+02 -7.500000e+00 -2.174000e+01   \n",
       "25%    1.070000e+02  0.000000e+00  9.300000e+00  0.000000e+00  5.000000e-01   \n",
       "50%    1.620000e+02  1.000000e+00  1.420000e+01  0.000000e+00  5.000000e-01   \n",
       "75%    2.330000e+02  1.000000e+00  2.397000e+01  2.500000e+00  5.000000e-01   \n",
       "max    2.650000e+02  5.000000e+00  3.254780e+05  4.246000e+01  1.050000e+01   \n",
       "std    7.091911e+01  7.697741e-01  1.577826e+02  1.829902e+00  1.407145e-01   \n",
       "\n",
       "         tip_amount  tolls_amount  improvement_surcharge  total_amount  \\\n",
       "count  4.322960e+06  4.322960e+06           4.322960e+06  4.322960e+06   \n",
       "mean   2.752655e+00  5.100199e-01           9.545138e-01  2.738722e+01   \n",
       "min   -7.007000e+01 -1.090600e+02          -1.000000e+00 -9.942500e+02   \n",
       "25%    0.000000e+00  0.000000e+00           1.000000e+00  1.601000e+01   \n",
       "50%    2.000000e+00  0.000000e+00           1.000000e+00  2.175000e+01   \n",
       "75%    3.870000e+00  0.000000e+00           1.000000e+00  3.139000e+01   \n",
       "max    9.609400e+02  7.160500e+02           1.000000e+00  3.255285e+05   \n",
       "std    4.022928e+00  2.154179e+00           2.783022e-01  1.583694e+02   \n",
       "\n",
       "       congestion_surcharge   Airport_fee  cbd_congestion_fee  \n",
       "count          3.110014e+06  3.110014e+06        4.322960e+06  \n",
       "mean           2.181600e+00  1.588413e-01        5.332318e-01  \n",
       "min           -2.500000e+00 -1.750000e+00       -7.500000e-01  \n",
       "25%            2.500000e+00  0.000000e+00        0.000000e+00  \n",
       "50%            2.500000e+00  0.000000e+00        7.500000e-01  \n",
       "75%            2.500000e+00  0.000000e+00        7.500000e-01  \n",
       "max            2.500000e+00  6.750000e+00        1.250000e+00  \n",
       "std            9.632568e-01  5.556769e-01        3.585827e-01  "
      ]
     },
     "execution_count": 23,
     "metadata": {},
     "output_type": "execute_result"
    }
   ],
   "source": [
    "trip_data_06.describe()"
   ]
  },
  {
   "cell_type": "markdown",
   "id": "1866a43e",
   "metadata": {},
   "source": [
    "> What are looks suspicious?"
   ]
  },
  {
   "cell_type": "markdown",
   "id": "5fcfcb14",
   "metadata": {},
   "source": [
    "- `VendorID` & `RatecodeID`: Some categories not listed in metadata\n",
    "- `passenger_count`: 0?\n",
    "- `trip_distance`:  max value look like doesn't make sense\n",
    "- `fare_amount`: have minus & max value look like doesn't make sense\n",
    "- `tip_amount`: have minus & max value look like doesn't make sense\n",
    "- `.describe()` -> float / numerical not ID"
   ]
  },
  {
   "cell_type": "markdown",
   "id": "d2371fb3",
   "metadata": {},
   "source": [
    "#### `fare_amount`  \n",
    "\n",
    "\n",
    "> **Tips**: _Start with Target Variable_"
   ]
  },
  {
   "cell_type": "code",
   "execution_count": 24,
   "id": "27dddfc0",
   "metadata": {},
   "outputs": [
    {
     "data": {
      "text/html": [
       "<div>\n",
       "<style scoped>\n",
       "    .dataframe tbody tr th:only-of-type {\n",
       "        vertical-align: middle;\n",
       "    }\n",
       "\n",
       "    .dataframe tbody tr th {\n",
       "        vertical-align: top;\n",
       "    }\n",
       "\n",
       "    .dataframe thead th {\n",
       "        text-align: right;\n",
       "    }\n",
       "</style>\n",
       "<table border=\"1\" class=\"dataframe\">\n",
       "  <thead>\n",
       "    <tr style=\"text-align: right;\">\n",
       "      <th></th>\n",
       "      <th>fare_amount</th>\n",
       "    </tr>\n",
       "  </thead>\n",
       "  <tbody>\n",
       "    <tr>\n",
       "      <th>count</th>\n",
       "      <td>4.322960e+06</td>\n",
       "    </tr>\n",
       "    <tr>\n",
       "      <th>mean</th>\n",
       "      <td>1.897800e+01</td>\n",
       "    </tr>\n",
       "    <tr>\n",
       "      <th>std</th>\n",
       "      <td>1.577826e+02</td>\n",
       "    </tr>\n",
       "    <tr>\n",
       "      <th>min</th>\n",
       "      <td>-9.900000e+02</td>\n",
       "    </tr>\n",
       "    <tr>\n",
       "      <th>25%</th>\n",
       "      <td>9.300000e+00</td>\n",
       "    </tr>\n",
       "    <tr>\n",
       "      <th>50%</th>\n",
       "      <td>1.420000e+01</td>\n",
       "    </tr>\n",
       "    <tr>\n",
       "      <th>75%</th>\n",
       "      <td>2.397000e+01</td>\n",
       "    </tr>\n",
       "    <tr>\n",
       "      <th>max</th>\n",
       "      <td>3.254780e+05</td>\n",
       "    </tr>\n",
       "  </tbody>\n",
       "</table>\n",
       "</div>"
      ],
      "text/plain": [
       "        fare_amount\n",
       "count  4.322960e+06\n",
       "mean   1.897800e+01\n",
       "std    1.577826e+02\n",
       "min   -9.900000e+02\n",
       "25%    9.300000e+00\n",
       "50%    1.420000e+01\n",
       "75%    2.397000e+01\n",
       "max    3.254780e+05"
      ]
     },
     "execution_count": 24,
     "metadata": {},
     "output_type": "execute_result"
    }
   ],
   "source": [
    "# Check outlier / distribution / unreasonable value\n",
    "trip_data_06[[\"fare_amount\"]].describe()"
   ]
  },
  {
   "cell_type": "code",
   "execution_count": 25,
   "id": "6f3970a6",
   "metadata": {},
   "outputs": [
    {
     "data": {
      "image/png": "[encoded data removed]",
      "text/plain": [
       "<Figure size 640x480 with 1 Axes>"
      ]
     },
     "metadata": {},
     "output_type": "display_data"
    }
   ],
   "source": [
    "# Easy way to check outlier / distribution\n",
    "trip_data_06[[\"fare_amount\"]].boxplot(vert=False);\n",
    "plt.show()"
   ]
  },
  {
   "cell_type": "code",
   "execution_count": 26,
   "id": "002f6a48",
   "metadata": {},
   "outputs": [
    {
     "data": {
      "image/png": "[encoded data removed]",
      "text/plain": [
       "<Figure size 640x480 with 1 Axes>"
      ]
     },
     "metadata": {},
     "output_type": "display_data"
    }
   ],
   "source": [
    "# Other way to check outlier / distribution\n",
    "trip_data_06[[\"fare_amount\"]].hist(bins=100);\n",
    "plt.show()"
   ]
  },
  {
   "cell_type": "code",
   "execution_count": null,
   "id": "ec1e2bf0",
   "metadata": {},
   "outputs": [],
   "source": [
    "# Preview minus fare_amount\n",
    "trip_data_06[trip_data_06.fare_amount < 0].fare_amount.describe()"
   ]
  },
  {
   "cell_type": "code",
   "execution_count": null,
   "id": "48a3aac0",
   "metadata": {},
   "outputs": [],
   "source": [
    "# Preview very high fare_amount\n",
    "trip_data_06[\n",
    "    trip_data_06.fare_amount > trip_data_06.fare_amount.quantile(.999999) # 99.9999% data\n",
    "]#.fare_amount.describe()"
   ]
  },
  {
   "cell_type": "markdown",
   "id": "6b84ed1e",
   "metadata": {},
   "source": [
    "> Notes:  \n",
    "\n",
    "- Fare amount have negative value (e.g. -3.5, -5, -10, etc). is it data entry error, refund, discount, or what?\n",
    "- Very high fare amount (e.g. > 500 or more than 99.9999% data) can be outlier or special case (e.g. long distance, luxury car, etc)\n",
    "- Need to check with other columns (e.g. payment_type, extra, mta_tax, tip_amount, tolls_amount, total_amount)\n",
    "- Need to check with trip_distance = 0"
   ]
  },
  {
   "cell_type": "markdown",
   "id": "0e5923cc",
   "metadata": {},
   "source": [
    "#### `VendorID`"
   ]
  },
  {
   "cell_type": "code",
   "execution_count": null,
   "id": "f3d945d4",
   "metadata": {},
   "outputs": [],
   "source": [
    "# Check Unique Value\n",
    "trip_data_06.VendorID.unique()"
   ]
  },
  {
   "cell_type": "code",
   "execution_count": null,
   "id": "4d7b5479",
   "metadata": {},
   "outputs": [],
   "source": [
    "# Check Freq. / Total Data for each VendorID (manual way)\n",
    "for vendor_id in trip_data_06.VendorID.unique():\n",
    "    vendor_id_count = trip_data_06[trip_data_06.VendorID == vendor_id].shape[0]\n",
    "    print(f\"Total Vendor ID {vendor_id} in data: {vendor_id_count} rows\")"
   ]
  },
  {
   "cell_type": "code",
   "execution_count": null,
   "id": "0babac62",
   "metadata": {},
   "outputs": [],
   "source": [
    "# Check Freq. / Total Data for each VendorID (better way)\n",
    "tmp = trip_data_06.copy() # NOTE: This is just a safe way\n",
    "tmp[\"count\"] = 1 # Dummy value\n",
    "tmp.groupby([\"VendorID\"]).count()[\"count\"]"
   ]
  },
  {
   "cell_type": "code",
   "execution_count": null,
   "id": "c06f31e2",
   "metadata": {},
   "outputs": [],
   "source": [
    "# Check Freq. / Total Data for each VendorID (better way)\n",
    "trip_data_06.VendorID.value_counts(\n",
    "    # normalize=True\n",
    ") # * 100"
   ]
  },
  {
   "cell_type": "markdown",
   "id": "4dea7ebb",
   "metadata": {},
   "source": [
    "> Question: What should we do with VendorID except 1 and 2?"
   ]
  },
  {
   "cell_type": "markdown",
   "id": "8642b1cc",
   "metadata": {},
   "source": [
    "#### `trip_distance`"
   ]
  },
  {
   "cell_type": "code",
   "execution_count": null,
   "id": "9550f96b",
   "metadata": {},
   "outputs": [],
   "source": [
    "# Preview trip_distance statistical description again\n",
    "trip_data_06.trip_distance.describe()"
   ]
  },
  {
   "cell_type": "code",
   "execution_count": null,
   "id": "e2dd2769",
   "metadata": {},
   "outputs": [],
   "source": [
    "# Filter very long trip_distance\n",
    "very_long_trip = trip_data_06[\n",
    "    trip_data_06.trip_distance > trip_data_06.trip_distance.quantile(.99995) # 99.9999% data\n",
    "].copy()\n",
    "\n",
    "# Plot very long trip_distance\n",
    "very_long_trip.trip_distance.hist(bins=50);\n",
    "plt.title('Trip Distance > 99.995% Data');\n",
    "plt.xlabel('Trip Distance (miles)');\n",
    "plt.ylabel('Frequency');\n",
    "plt.show();\n",
    "very_long_trip.trip_distance.describe()"
   ]
  },
  {
   "cell_type": "markdown",
   "id": "97d5ac83",
   "metadata": {},
   "source": [
    "> **Multivariate Analysis** "
   ]
  },
  {
   "cell_type": "code",
   "execution_count": null,
   "id": "7c0c176f",
   "metadata": {},
   "outputs": [],
   "source": [
    "# Check fare_amount correlation with trip_distance\n",
    "display(trip_data_06[[\"fare_amount\", \"trip_distance\"]].corr())\n",
    "sns.scatterplot(\n",
    "    data=trip_data_06, \n",
    "    x=\"trip_distance\", \n",
    "    y=\"fare_amount\"\n",
    ")\\\n",
    ".set_title(\"Fare Amount vs Trip Distance\");\n",
    "plt.show()"
   ]
  },
  {
   "cell_type": "markdown",
   "id": "1605c106",
   "metadata": {},
   "source": [
    "#### `passenger_count`"
   ]
  },
  {
   "cell_type": "code",
   "execution_count": null,
   "id": "a3ab5127",
   "metadata": {},
   "outputs": [],
   "source": [
    "# Preview passenger_count statistical description\n",
    "trip_data_06.passenger_count.describe()"
   ]
  },
  {
   "cell_type": "code",
   "execution_count": null,
   "id": "56c77b37",
   "metadata": {},
   "outputs": [],
   "source": [
    "trip_data_06.passenger_count.isnull().sum() "
   ]
  },
  {
   "cell_type": "code",
   "execution_count": null,
   "id": "899b45f9",
   "metadata": {},
   "outputs": [],
   "source": [
    "# Check Passenger Count Distribution\n",
    "(trip_data_06\\\n",
    "    .value_counts(\n",
    "        \"passenger_count\", \n",
    "        normalize=True\n",
    "    ) *100\n",
    ").plot(kind=\"bar\");\n",
    "plt.show();"
   ]
  },
  {
   "cell_type": "code",
   "execution_count": null,
   "id": "fad08a4c",
   "metadata": {},
   "outputs": [],
   "source": [
    "# Better visualization\n",
    "(trip_data_06.value_counts(\"passenger_count\", normalize=True) *100).sort_index().plot(kind=\"bar\", rot=0);\n",
    "plt.xlabel(\"Passenger Count\");\n",
    "plt.ylabel(\"Percentage (%)\");\n",
    "plt.title(\"Distribution of Passenger Count\");\n",
    "plt.show();"
   ]
  },
  {
   "cell_type": "code",
   "execution_count": null,
   "id": "89babf67",
   "metadata": {},
   "outputs": [],
   "source": [
    "# Average fare_amount by passenger_count.\n",
    "# Alternative 1: by grouping\n",
    "trip_data_06[[\n",
    "    \"fare_amount\",\n",
    "    \"passenger_count\"\n",
    "]].groupby(\"passenger_count\").mean()"
   ]
  },
  {
   "cell_type": "code",
   "execution_count": null,
   "id": "a2154555",
   "metadata": {},
   "outputs": [],
   "source": [
    "# Average fare_amount by passenger_count.\n",
    "# Alternative 2: by pivot_table\n",
    "# NOTE: uncomment the plot code to visualize\n",
    "trip_data_06.pivot_table(\n",
    "    values=\"fare_amount\",\n",
    "    index=\"passenger_count\",\n",
    "    aggfunc=\"mean\"\n",
    ")#\\\n",
    "#.plot(kind=\"bar\");\n",
    "#plt.show()"
   ]
  },
  {
   "cell_type": "code",
   "execution_count": null,
   "id": "ded1f9f5",
   "metadata": {},
   "outputs": [],
   "source": [
    "# For better visualization\n",
    "# Filter data, remove NaN, convert to int, than plot\n",
    "tmp_df = trip_data_06[[\"fare_amount\", \"passenger_count\"]].copy()\n",
    "tmp_df.dropna(subset=[\"passenger_count\"], inplace=True)\n",
    "tmp_df.passenger_count = tmp_df.passenger_count.astype(int)\n",
    "tmp_df.pivot_table(\n",
    "    values=\"fare_amount\",\n",
    "    index=\"passenger_count\",\n",
    "    aggfunc=\"mean\"\n",
    ")\\\n",
    ".plot(kind=\"bar\", rot=0);\n",
    "plt.xlabel(\"Passenger Count\");\n",
    "plt.ylabel(\"Average Fare Amount ($)\");\n",
    "plt.title(\"Average Fare Amount by Passenger Count\");\n",
    "plt.show()"
   ]
  },
  {
   "cell_type": "markdown",
   "id": "d25f2d93",
   "metadata": {},
   "source": [
    "#### `<Other Features>`"
   ]
  },
  {
   "cell_type": "code",
   "execution_count": null,
   "id": "d7d2182c",
   "metadata": {},
   "outputs": [],
   "source": [
    "# NOTE: please explore it yourself ;)\n"
   ]
  },
  {
   "cell_type": "markdown",
   "id": "d7e1d239",
   "metadata": {},
   "source": [
    "#### **Checkpoints**:\n",
    "\n",
    "What you have learned so far (in terms of idea): \n",
    "1. Understand the data (data types, missing values, duplicates, basic statistics)\n",
    "2. Identify potential issues (outliers, unreasonable values)\n",
    "3. Works with numerical and categorical variables\n",
    "\n",
    "What you have learned so far (in terms of technical): \n",
    "1. Simple visualization (boxplot, histogram)\n",
    "2. Statistical summary / descriptive for numerical (mean, median, std, min, max, quantiles)\n",
    "3. Statistical summary / descriptive for categorical (mode, freq., n_unique)\n",
    "4. Filtering Dataframe\n",
    "5. Univariate analysis (focus on one variable at a time)\n",
    "6. Multivariate analysis (focus on more than one variable)\n",
    "7. Data aggregation\n",
    "5. Create visualization (basic and better)"
   ]
  },
  {
   "cell_type": "markdown",
   "id": "3235e571",
   "metadata": {},
   "source": [
    "# Pre-processing"
   ]
  },
  {
   "cell_type": "markdown",
   "id": "d024a1ea",
   "metadata": {},
   "source": [
    "## Combine Data"
   ]
  },
  {
   "cell_type": "code",
   "execution_count": null,
   "id": "7d7dd019",
   "metadata": {},
   "outputs": [],
   "source": [
    "# Concat two months data\n",
    "trip_data_07 = pd.read_parquet('./data/yellow_tripdata_2025-07.parquet')\n",
    "trip_data = pd.concat([trip_data_06, trip_data_07])"
   ]
  },
  {
   "cell_type": "code",
   "execution_count": null,
   "id": "077cb99f",
   "metadata": {},
   "outputs": [],
   "source": [
    "# Merge with taxi zone data\n",
    "trip_data = trip_data.merge(taxi_zone, left_on='PULocationID', right_on='LocationID', how='left')\n",
    "trip_data = trip_data.merge(taxi_zone, left_on='DOLocationID', right_on='LocationID', how='left', suffixes=('_PULocation', '_DOLocation'))"
   ]
  },
  {
   "cell_type": "code",
   "execution_count": null,
   "id": "71ce7ad5",
   "metadata": {},
   "outputs": [],
   "source": [
    "display(trip_data.head(2))\n",
    "display(trip_data.tail(2))"
   ]
  },
  {
   "cell_type": "markdown",
   "id": "4fa7098a",
   "metadata": {},
   "source": [
    "### Tips & Trick: **Optimization Dtype**"
   ]
  },
  {
   "cell_type": "code",
   "execution_count": null,
   "id": "545c3130",
   "metadata": {},
   "outputs": [],
   "source": [
    "# Store original data (for comparation purpose)\n",
    "trip_data_ori = trip_data.copy()\n",
    "\n",
    "# Columns that should be int\n",
    "should_be_int = [\n",
    "    \"VendorID\",\n",
    "    \"passenger_count\",\n",
    "    \"RatecodeID\",\n",
    "    \"payment_type\",\n",
    "    \"PULocationID\",\n",
    "    \"DOLocationID\",\n",
    "]\n",
    "\n",
    "# Convert to int\n",
    "for col in should_be_int:\n",
    "    trip_data[col] = trip_data[col].fillna(-1).astype(int) # Pandas nullable integer type\n",
    "\n",
    "# Optimize dataset (in term of memory usage)\n",
    "for col in trip_data.select_dtypes(\"float64\").columns:\n",
    "    trip_data[col] = pd.to_numeric(trip_data[col], downcast=\"float\")\n",
    "for col in trip_data.select_dtypes(\"int32\").columns:\n",
    "    trip_data[col] = pd.to_numeric(trip_data[col], downcast=\"integer\")"
   ]
  },
  {
   "cell_type": "code",
   "execution_count": null,
   "id": "60364cae",
   "metadata": {},
   "outputs": [],
   "source": [
    "trip_data_ori.info()"
   ]
  },
  {
   "cell_type": "code",
   "execution_count": null,
   "id": "17afb7e9",
   "metadata": {},
   "outputs": [],
   "source": [
    "trip_data.info()"
   ]
  },
  {
   "cell_type": "markdown",
   "id": "2357fa31",
   "metadata": {},
   "source": [
    "## Feature Engineering"
   ]
  },
  {
   "cell_type": "code",
   "execution_count": null,
   "id": "4acb7938",
   "metadata": {},
   "outputs": [],
   "source": [
    "# Create derrived features\n",
    "trip_data[\"pickup_hour\"] =  trip_data[\"tpep_pickup_datetime\"].dt.hour\n",
    "trip_data[\"pickup_day\"] =  trip_data[\"tpep_pickup_datetime\"].dt.weekday"
   ]
  },
  {
   "cell_type": "code",
   "execution_count": null,
   "id": "fd7b2317",
   "metadata": {},
   "outputs": [],
   "source": [
    "# Average fare_amount by pickup_hour\n",
    "trip_data.pivot_table(\n",
    "    values=\"fare_amount\",\n",
    "    index=\"pickup_hour\",\n",
    "    aggfunc=\"mean\"\n",
    ").plot(kind=\"bar\", rot=0, figsize=(10,3), legend=False);\n",
    "plt.xlabel(\"Hour of Day\");\n",
    "plt.ylabel(\"Average Fare Amount ($)\");\n",
    "plt.title(\"Average Fare Amount by Hour of Day\");\n",
    "plt.show()\n",
    "\n",
    "# Average fare_amount by pickup_day\n",
    "trip_data.pivot_table(\n",
    "    values=\"fare_amount\",\n",
    "    index=\"pickup_day\",\n",
    "    aggfunc=\"mean\"\n",
    ").plot(kind=\"bar\", rot=0, figsize=(10,3), legend=False);\n",
    "plt.xlabel(\"Day of Week\");\n",
    "plt.ylabel(\"Average Fare Amount ($)\");\n",
    "plt.title(\"Average Fare Amount by  Day of Week\");\n",
    "plt.show()"
   ]
  },
  {
   "cell_type": "code",
   "execution_count": null,
   "id": "7d4caf67",
   "metadata": {},
   "outputs": [],
   "source": [
    "# Create a copy of selected columns to analyze time-related patterns\n",
    "time_perspective = trip_data[[\"tpep_pickup_datetime\", \"fare_amount\"]].copy()\n",
    "\n",
    "# Extract hour of day and weekday number (0 = Monday, 6 = Sunday)\n",
    "time_perspective[\"hour\"] = time_perspective[\"tpep_pickup_datetime\"].dt.hour\n",
    "time_perspective[\"weekday\"] = time_perspective[\"tpep_pickup_datetime\"].dt.weekday\n",
    "time_perspective[\"date\"] = time_perspective[\"tpep_pickup_datetime\"].dt.date\n",
    "\n",
    "# Map weekday numbers to weekday names (e.g., 0 → Monday)\n",
    "weekday_map = {i: calendar.day_name[i] for i in range(7)}\n",
    "time_perspective[\"weekday_name\"] = time_perspective[\"weekday\"].map(weekday_map)\n",
    "\n",
    "# ==== 1) Average fare amount by day of week and hour ====\n",
    "\n",
    "# Create a pivot table for the average fare\n",
    "heatmap_fare = time_perspective.pivot_table(\n",
    "    index=\"weekday_name\",\n",
    "    columns=\"hour\",\n",
    "    values=\"fare_amount\",\n",
    "    aggfunc=\"mean\"\n",
    ")\n",
    "\n",
    "# Sort rows from Monday to Sunday\n",
    "heatmap_fare = heatmap_fare.reindex([calendar.day_name[i] for i in range(7)])\n",
    "\n",
    "# Plot heatmap of average fares\n",
    "plt.figure(figsize=(12, 4))\n",
    "ax = sns.heatmap(\n",
    "    heatmap_fare,\n",
    "    cmap=\"RdYlGn_r\",\n",
    "    cbar_kws={\"label\": \"Average Fare Amount (USD)\"}\n",
    ")\n",
    "\n",
    "# Add labels and title\n",
    "ax.set_xlabel(\"Hour of Day\", fontsize=12)\n",
    "ax.set_ylabel(\"Day of Week\", fontsize=12)\n",
    "plt.xticks(rotation=0)\n",
    "plt.yticks(rotation=0)\n",
    "plt.title(\"Average Trip Fare by Day of Week and Hour\", fontsize=16, weight=\"bold\")\n",
    "plt.tight_layout()\n",
    "plt.show()\n",
    "\n",
    "# ==== 2) Trip counts by day of week and hour ====\n",
    "\n",
    "# Create a pivot table for the number of trips\n",
    "heatmap_counts = time_perspective.pivot_table(\n",
    "    index=\"weekday_name\",\n",
    "    columns=\"hour\",\n",
    "    values=\"date\",\n",
    "    aggfunc=\"count\"\n",
    ")\n",
    "\n",
    "# Sort rows from Monday to Sunday\n",
    "heatmap_counts = heatmap_counts.reindex([calendar.day_name[i] for i in range(7)])\n",
    "\n",
    "# Plot heatmap of trip counts\n",
    "plt.figure(figsize=(12, 4))\n",
    "ax = sns.heatmap(\n",
    "    heatmap_counts,\n",
    "    cmap=\"RdYlGn_r\",\n",
    "    cbar_kws={\"label\": \"Number of Trips\"}\n",
    ")\n",
    "\n",
    "# Add labels and title\n",
    "ax.set_xlabel(\"Hour of Day\", fontsize=12)\n",
    "ax.set_ylabel(\"Day of Week\", fontsize=12)\n",
    "plt.xticks(rotation=0)\n",
    "plt.yticks(rotation=0)\n",
    "plt.title(\"Trip Counts by Day of Week and Hour\", fontsize=16, weight=\"bold\")\n",
    "plt.tight_layout()\n",
    "plt.show()\n"
   ]
  },
  {
   "cell_type": "markdown",
   "id": "52b6f71b",
   "metadata": {},
   "source": [
    "## Feature Selection"
   ]
  },
  {
   "cell_type": "code",
   "execution_count": null,
   "id": "bd88e889",
   "metadata": {},
   "outputs": [],
   "source": [
    "target = \"fare_amount\"\n",
    "features = [\n",
    "    \"trip_distance\",\n",
    "    \"VendorID\",\n",
    "    \"passenger_count\",\n",
    "    \"pickup_hour\",\n",
    "    \"pickup_day\",\n",
    "\n",
    "]\n",
    "\n",
    "trip_data_clean = trip_data[features + [target]].copy()\n",
    "trip_data_clean.info()"
   ]
  },
  {
   "cell_type": "code",
   "execution_count": null,
   "id": "d0549bfe",
   "metadata": {},
   "outputs": [],
   "source": [
    "# Optimize dataset (in term of memory usage/size)\n",
    "trip_data_clean.VendorID = trip_data_clean.VendorID.astype('uint8')\n",
    "trip_data_clean.pickup_hour = trip_data_clean.pickup_hour.astype('uint8')\n",
    "trip_data_clean.pickup_day = trip_data_clean.pickup_day.astype('uint8')\n",
    "trip_data_clean.fare_amount = trip_data_clean.fare_amount.astype('float32')\n",
    "trip_data_clean.trip_distance = trip_data_clean.trip_distance.astype('float32')\n",
    "trip_data_clean.info()"
   ]
  },
  {
   "cell_type": "markdown",
   "id": "1270133c",
   "metadata": {},
   "source": [
    "> Notes: _We shrank the data size by over **94%**, dropping **from ~1.6 GB to only ~94 MB**._"
   ]
  },
  {
   "cell_type": "markdown",
   "id": "5d80c365",
   "metadata": {},
   "source": [
    "## Data Cleaning"
   ]
  },
  {
   "cell_type": "markdown",
   "id": "0c832e93",
   "metadata": {},
   "source": [
    "### Handle Duplicates (if any)"
   ]
  },
  {
   "cell_type": "code",
   "execution_count": null,
   "id": "aa0f74de",
   "metadata": {},
   "outputs": [],
   "source": [
    "# Check duplicates\n",
    "total_duplicates_data = trip_data_clean.duplicated().sum()\n",
    "print(f\"Total Duplicates Data: {total_duplicates_data.sum()} rows / {total_duplicates_data / trip_data_clean.shape[0] * 100:.2f}%\")\n",
    "\n",
    "# Preview duplicates\n",
    "trip_data_clean[trip_data_clean.duplicated(keep=False)].sort_values(by=target)"
   ]
  },
  {
   "cell_type": "code",
   "execution_count": null,
   "id": "46943db1",
   "metadata": {},
   "outputs": [],
   "source": [
    "# Keep all if want to analyze duplicates later\n",
    "dup_data = trip_data_clean.duplicated(keep=False)\n",
    "\n",
    "# Drop duplicates\n",
    "trip_data_clean = trip_data_clean.drop_duplicates(keep=\"first\")\n",
    "trip_data_clean.reset_index(drop=True, inplace=True)\n",
    "trip_data_clean.info()"
   ]
  },
  {
   "cell_type": "markdown",
   "id": "db368fac",
   "metadata": {},
   "source": [
    "### Handling Missing Value (if any)"
   ]
  },
  {
   "cell_type": "code",
   "execution_count": null,
   "id": "d47446cf",
   "metadata": {},
   "outputs": [],
   "source": [
    "# Check missing value\n",
    "trip_data_clean.isnull().sum()"
   ]
  },
  {
   "cell_type": "markdown",
   "id": "84b354c5",
   "metadata": {},
   "source": [
    "> Notes: remember that we change / fillna by -1 earlier"
   ]
  },
  {
   "cell_type": "code",
   "execution_count": null,
   "id": "fc90ce6d",
   "metadata": {},
   "outputs": [],
   "source": [
    "# Review data with passenger_count missing value vs complete\n",
    "display(trip_data_clean[trip_data_clean.passenger_count.isnull()].describe()) \n",
    "display(trip_data_clean[~trip_data_clean.passenger_count.isnull()].describe()) "
   ]
  },
  {
   "cell_type": "code",
   "execution_count": null,
   "id": "48f0a1a9",
   "metadata": {},
   "outputs": [],
   "source": [
    "# Check Mode for passenger_count\n",
    "(trip_data_clean.passenger_count.value_counts(normalize=True)*100).sort_index().plot(kind=\"bar\", rot=0, figsize=(10,3));\n",
    "plt.xlabel(\"Passenger Count\");\n",
    "plt.ylabel(\"Percentage (%)\");\n",
    "plt.title(\"Distribution of Passenger Count\");\n",
    "plt.show()"
   ]
  },
  {
   "cell_type": "code",
   "execution_count": null,
   "id": "3e06d378",
   "metadata": {},
   "outputs": [],
   "source": [
    "# Fillna with mode\n",
    "mode_passenger_count = 1\n",
    "trip_data_clean.passenger_count = trip_data_clean.passenger_count.replace(-1, mode_passenger_count)"
   ]
  },
  {
   "cell_type": "code",
   "execution_count": null,
   "id": "6995a6ce",
   "metadata": {},
   "outputs": [],
   "source": [
    "# Check Mode for passenger_count\n",
    "(trip_data_clean.passenger_count.value_counts(normalize=True)*100).sort_index().plot(kind=\"bar\", rot=0, figsize=(10,3));\n",
    "plt.xlabel(\"Passenger Count\");\n",
    "plt.ylabel(\"Percentage (%)\");\n",
    "plt.title(\"Distribution of Passenger Count (After Fillna / Replacing -1 with Mode)\");\n",
    "plt.show()"
   ]
  },
  {
   "cell_type": "markdown",
   "id": "5ae8fbf9",
   "metadata": {},
   "source": [
    "### Handling Outlier (if any)"
   ]
  },
  {
   "cell_type": "code",
   "execution_count": null,
   "id": "9a81ebab",
   "metadata": {},
   "outputs": [],
   "source": [
    "# trip_data_clean.describe()# .corr()[[target]].sort_values(by=[target], ascending=False).style.background_gradient(cmap='bwr')\n",
    "numerical_features = [\n",
    "    'trip_distance',\n",
    "    'passenger_count',\n",
    "    'fare_amount',\n",
    "]\n",
    "categorical_features = [\n",
    "    'VendorID',\n",
    "    'pickup_hour',\n",
    "    'pickup_day',\n",
    "]\n",
    "for col in numerical_features:\n",
    "    print(f\"Statistical Description of `{col}`:\")\n",
    "    print(trip_data_clean[col].describe().round(2))\n",
    "    trip_data_clean[[col]].boxplot(rot=0, figsize=(8,3), vert=False);\n",
    "    plt.title(f\"Boxplot of `{col}`\");\n",
    "    plt.show()\n",
    "    print(\"\\n\")"
   ]
  },
  {
   "cell_type": "code",
   "execution_count": null,
   "id": "a64ad124",
   "metadata": {},
   "outputs": [],
   "source": [
    "# Option 1: Remove outliers using IQR rule\n",
    "def remove_outliers_iqr(df, columns, multiplier=1.5):\n",
    "    \"\"\"\n",
    "    Remove outliers from selected numeric columns using the IQR rule.\n",
    "\n",
    "    Parameters\n",
    "    ----------\n",
    "    df : pandas.DataFrame\n",
    "        The input DataFrame.\n",
    "    columns : list of str\n",
    "        List of column names where you want to remove outliers.\n",
    "    multiplier : float, optional, default=1.5\n",
    "        The IQR multiplier (1.5 is common; use 3.0 for more relaxed filtering).\n",
    "\n",
    "    Returns\n",
    "    -------\n",
    "    pandas.DataFrame\n",
    "        A copy of the DataFrame with outliers removed.\n",
    "    \"\"\"\n",
    "    clean_df = df.copy()\n",
    "\n",
    "    for col in columns:\n",
    "        if col not in clean_df.columns:\n",
    "            raise KeyError(f\"Column '{col}' not found in DataFrame.\")\n",
    "\n",
    "        if not pd.api.types.is_numeric_dtype(clean_df[col]):\n",
    "            raise TypeError(f\"Column '{col}' is not numeric.\")\n",
    "\n",
    "        q1 = clean_df[col].quantile(0.25)\n",
    "        q3 = clean_df[col].quantile(0.75)\n",
    "        iqr = q3 - q1\n",
    "        lower = q1 - multiplier * iqr\n",
    "        upper = q3 + multiplier * iqr\n",
    "\n",
    "        clean_df = clean_df[(clean_df[col] >= lower) & (clean_df[col] <= upper)]\n",
    "\n",
    "    return clean_df\n",
    "\n",
    "filtered_with_iqr = remove_outliers_iqr(trip_data_clean, [\"fare_amount\", \"trip_distance\"])\n",
    "filtered_with_iqr.reset_index(drop=True, inplace=True)\n",
    "\n",
    "# Option 2: Remove outliers using Percentile method\n",
    "MAX_PERCENTILE = .9999\n",
    "trip_data_clean.fare_amount.quantile(MAX_PERCENTILE), trip_data_clean.trip_distance.quantile(MAX_PERCENTILE)\n",
    "filtered_with_percentile = trip_data_clean[\n",
    "    (trip_data_clean.fare_amount <= trip_data_clean.fare_amount.quantile(MAX_PERCENTILE)) &\n",
    "    (trip_data_clean.trip_distance <= trip_data_clean.trip_distance.quantile(MAX_PERCENTILE))\n",
    "]\n",
    "filtered_with_percentile.reset_index(drop=True, inplace=True)\n",
    "\n",
    "# Option 3: Manual filtering\n",
    "filtered_manual = trip_data_clean[\n",
    "    (trip_data_clean.fare_amount > 0) & \n",
    "    (trip_data_clean.fare_amount < 500) &\n",
    "    (trip_data_clean.trip_distance > 0) &\n",
    "    (trip_data_clean.trip_distance < 250)\n",
    "]\n",
    "filtered_manual.reset_index(drop=True, inplace=True)\n",
    "\n",
    "# Preview filtered data\n",
    "for col in [\"fare_amount\", \"trip_distance\"]:\n",
    "    filtered_with_percentile[[col]].boxplot(rot=0, figsize=(8,3), vert=False);\n",
    "    plt.title(f\"Boxplot of `{col}` after removing outliers using Percentile method\");\n",
    "    plt.show()\n",
    "    print(\"\\n\")\n",
    "print(f\"Reduced {trip_data_clean.shape[0]-filtered_with_percentile.shape[0]} rows to \",\n",
    "      f\"{(trip_data_clean.shape[0]-filtered_with_percentile.shape[0])/trip_data_clean.shape[0]*100:.2f}% rows after removing outliers using Percentile method.\")\n",
    "\n",
    "for col in [\"fare_amount\", \"trip_distance\"]:\n",
    "    filtered_with_iqr[[col]].boxplot(rot=0, figsize=(8,3), vert=False);\n",
    "    plt.title(f\"Boxplot of `{col}` after removing outliers using IQR method\");\n",
    "    plt.show()\n",
    "    print(\"\\n\")\n",
    "print(f\"Reduced {trip_data_clean.shape[0]-filtered_with_iqr.shape[0]} rows to \",\n",
    "      f\"{(trip_data_clean.shape[0]-filtered_with_iqr.shape[0])/trip_data_clean.shape[0]*100:.2f}% rows after removing outliers using IQR method.\")\n",
    "\n",
    "for col in [\"fare_amount\", \"trip_distance\"]:\n",
    "    filtered_manual[[col]].boxplot(rot=0, figsize=(8,3), vert=False);\n",
    "    plt.title(f\"Boxplot of `{col}` after removing outliers using Manual Filtering\");\n",
    "    plt.show()\n",
    "    print(\"\\n\")\n",
    "print(f\"Reduced {trip_data_clean.shape[0]-filtered_manual.shape[0]} rows to \",\n",
    "      f\"{(trip_data_clean.shape[0]-filtered_manual.shape[0])/trip_data_clean.shape[0]*100:.2f}% rows after removing outliers using Manual Filtering.\")\n"
   ]
  },
  {
   "cell_type": "code",
   "execution_count": null,
   "id": "580c27d5",
   "metadata": {},
   "outputs": [],
   "source": [
    "# Compare correlation after outlier removal\n",
    "display(filtered_with_iqr.corr()[[target]].drop(target).sort_values(by=[target], ascending=False).style.background_gradient(cmap='bwr'))\n",
    "display(filtered_with_percentile.corr()[[target]].drop(target).sort_values(by=[target], ascending=False).style.background_gradient(cmap='bwr'))\n",
    "display(filtered_manual.corr()[[target]].drop(target).sort_values(by=[target], ascending=False).style.background_gradient(cmap='bwr'))"
   ]
  },
  {
   "cell_type": "code",
   "execution_count": null,
   "id": "a9bd6445",
   "metadata": {},
   "outputs": [],
   "source": [
    "# Check fare_amount correlation with trip_distance (after outlier removal) with viz.\n",
    "sns.scatterplot(\n",
    "    data=filtered_manual, \n",
    "    x=\"trip_distance\", \n",
    "    y=\"fare_amount\"\n",
    ")\\\n",
    ".set_title(\"Fare Amount vs Trip Distance\");\n",
    "\n",
    "plt.show()"
   ]
  },
  {
   "cell_type": "markdown",
   "id": "39e9e906",
   "metadata": {},
   "source": [
    "## Preview Clean Data"
   ]
  },
  {
   "cell_type": "code",
   "execution_count": null,
   "id": "1fcac630",
   "metadata": {},
   "outputs": [],
   "source": [
    "filtered_manual.sample(10)"
   ]
  },
  {
   "cell_type": "code",
   "execution_count": null,
   "id": "70709f75",
   "metadata": {},
   "outputs": [],
   "source": [
    "filtered_manual.info()"
   ]
  },
  {
   "cell_type": "code",
   "execution_count": null,
   "id": "758aa2c6",
   "metadata": {},
   "outputs": [],
   "source": [
    "filtered_manual.describe()"
   ]
  },
  {
   "cell_type": "markdown",
   "id": "8b1bf136",
   "metadata": {},
   "source": [
    "#### **Checkpoints**:\n",
    "\n",
    "What you have learned so far (in terms of idea): \n",
    "1. Handling duplicate value\n",
    "2. Handling missing value\n",
    "3. Handling outlier"
   ]
  },
  {
   "cell_type": "markdown",
   "id": "54db70e3",
   "metadata": {},
   "source": [
    "# Export Data"
   ]
  },
  {
   "cell_type": "code",
   "execution_count": null,
   "id": "12c5e86e",
   "metadata": {},
   "outputs": [],
   "source": [
    "filtered_manual.to_parquet('./data/trip_data_clean.parquet', index=False)\n",
    "filtered_manual.to_csv('./data/trip_data_clean.csv', index=False)"
   ]
  }
 ],
 "metadata": {
  "kernelspec": {
   "display_name": "boom_env",
   "language": "python",
   "name": "python3"
  },
  "language_info": {
   "codemirror_mode": {
    "name": "ipython",
    "version": 3
   },
   "file_extension": ".py",
   "mimetype": "text/x-python",
   "name": "python",
   "nbconvert_exporter": "python",
   "pygments_lexer": "ipython3",
   "version": "3.12.11"
  }
 },
 "nbformat": 4,
 "nbformat_minor": 5
}
