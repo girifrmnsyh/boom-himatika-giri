{
 "cells": [
  {
   "cell_type": "markdown",
   "id": "9cc6a015",
   "metadata": {},
   "source": [
    "# Init."
   ]
  },
  {
   "cell_type": "code",
   "execution_count": null,
   "id": "a84e13a5",
   "metadata": {},
   "outputs": [],
   "source": [
    "import pandas as pd\n",
    "import numpy as np\n",
    "import matplotlib.pyplot as plt\n",
    "import seaborn as sns\n",
    "import calendar "
   ]
  },
  {
   "cell_type": "markdown",
   "id": "54e69f3f",
   "metadata": {},
   "source": [
    "# Load Data"
   ]
  },
  {
   "cell_type": "markdown",
   "id": "ca09e1f7",
   "metadata": {},
   "source": [
    "> Read data realtime and save to local"
   ]
  },
  {
   "cell_type": "code",
   "execution_count": null,
   "id": "3ce55d62",
   "metadata": {},
   "outputs": [],
   "source": [
    "# # Data Source: https://www.nyc.gov/site/tlc/about/tlc-trip-record-data.page\n",
    "\n",
    "# data_name_june = \"yellow_tripdata_2025-06.parquet\"\n",
    "# data_name_july = \"yellow_tripdata_2025-07.parquet\"\n",
    "\n",
    "# raw_data_url_june = \"https://d37ci6vzurychx.cloudfront.net/trip-data/yellow_tripdata_2025-06.parquet\"\n",
    "# raw_data_url_july = \"https://d37ci6vzurychx.cloudfront.net/trip-data/yellow_tripdata_2025-07.parquet\"\n",
    "\n",
    "# df_june = pd.read_parquet(raw_data_url_june)\n",
    "# df_july = pd.read_parquet(raw_data_url_july)\n",
    "\n",
    "# df_june.to_parquet(f\"./data/{data_name_june}\")\n",
    "# df_july.to_parquet(f\"./data/{data_name_july}\")"
   ]
  },
  {
   "cell_type": "code",
   "execution_count": null,
   "id": "295b0410",
   "metadata": {},
   "outputs": [],
   "source": [
    "# Read Data\n",
    "taxi_zone = pd.read_csv('./data/taxi_zone_lookup.csv')\n",
    "trip_data_06 = pd.read_parquet('./data/yellow_tripdata_2025-06.parquet')"
   ]
  },
  {
   "cell_type": "code",
   "execution_count": null,
   "id": "80571707",
   "metadata": {},
   "outputs": [],
   "source": [
    "# Preview Data\n",
    "taxi_zone"
   ]
  },
  {
   "cell_type": "code",
   "execution_count": null,
   "id": "1929cce2",
   "metadata": {},
   "outputs": [],
   "source": [
    "# Preview Data\n",
    "display(trip_data_06.head())\n",
    "display(trip_data_06.tail())"
   ]
  },
  {
   "cell_type": "markdown",
   "id": "2d135815",
   "metadata": {},
   "source": [
    "# Data Understanding  "
   ]
  },
  {
   "cell_type": "markdown",
   "id": "f209aee2",
   "metadata": {},
   "source": [
    "## Data Inspection"
   ]
  },
  {
   "cell_type": "markdown",
   "id": "032fee75",
   "metadata": {},
   "source": [
    "### Taxi Zone"
   ]
  },
  {
   "cell_type": "code",
   "execution_count": null,
   "id": "a0c5eff4",
   "metadata": {},
   "outputs": [],
   "source": [
    "taxi_zone.info()"
   ]
  },
  {
   "cell_type": "code",
   "execution_count": null,
   "id": "b0d1bd66",
   "metadata": {},
   "outputs": [],
   "source": [
    "trip_data_06.info()"
   ]
  },
  {
   "cell_type": "code",
   "execution_count": null,
   "id": "51a53c07",
   "metadata": {},
   "outputs": [],
   "source": [
    "# Check Missing Value (Taxi Zone)\n",
    "taxi_zone.isnull().sum()"
   ]
  },
  {
   "cell_type": "code",
   "execution_count": null,
   "id": "99eececa",
   "metadata": {},
   "outputs": [],
   "source": [
    "# Preview Missing Value (Taxi Zone)\n",
    "taxi_zone[taxi_zone[\"service_zone\"].isnull()]"
   ]
  },
  {
   "cell_type": "code",
   "execution_count": null,
   "id": "ae690e60",
   "metadata": {},
   "outputs": [],
   "source": [
    "# Check Duplicates (Taxi Zone)\n",
    "taxi_zone.duplicated().sum()"
   ]
  },
  {
   "cell_type": "code",
   "execution_count": null,
   "id": "a7a6f7a2",
   "metadata": {},
   "outputs": [],
   "source": [
    "# Check Missing Value (Taxi Zone)\n",
    "taxi_zone.describe(include='all')"
   ]
  },
  {
   "cell_type": "markdown",
   "id": "8cfe9920",
   "metadata": {},
   "source": [
    "> Something weird with zone?  \n",
    "> Zone mode is `Governor's Island/Ellis Island/Liberty Island` w/ freq. 3"
   ]
  },
  {
   "cell_type": "code",
   "execution_count": null,
   "id": "344888b9",
   "metadata": {},
   "outputs": [],
   "source": [
    "# Preview taxi zone with same name but different Loc.ID\n",
    "taxi_zone[taxi_zone[\"Zone\"]==\"Governor's Island/Ellis Island/Liberty Island\"]"
   ]
  },
  {
   "cell_type": "markdown",
   "id": "9f6918e3",
   "metadata": {},
   "source": [
    "### Trip Data (06)"
   ]
  },
  {
   "cell_type": "markdown",
   "id": "bbb508de",
   "metadata": {},
   "source": [
    "> **Univariate**"
   ]
  },
  {
   "cell_type": "code",
   "execution_count": null,
   "id": "b13e96e3",
   "metadata": {},
   "outputs": [],
   "source": [
    "trip_data_06.describe()"
   ]
  },
  {
   "cell_type": "markdown",
   "id": "1866a43e",
   "metadata": {},
   "source": [
    "> What are looks suspicious?"
   ]
  },
  {
   "cell_type": "markdown",
   "id": "5fcfcb14",
   "metadata": {},
   "source": [
    "- `VendorID` & `RatecodeID`: Some categories not listed in metadata\n",
    "- `passenger_count`: 0?\n",
    "- `trip_distance`:  max value look like doesn't make sense\n",
    "- `fare_amount`: have minus & max value look like doesn't make sense\n",
    "- `tip_amount`: have minus & max value look like doesn't make sense\n",
    "- `.describe()` -> float / numerical not ID"
   ]
  },
  {
   "cell_type": "markdown",
   "id": "d2371fb3",
   "metadata": {},
   "source": [
    "#### `fare_amount`  \n",
    "\n",
    "\n",
    "> **Tips**: _Start with Target Variable_"
   ]
  },
  {
   "cell_type": "code",
   "execution_count": null,
   "id": "27dddfc0",
   "metadata": {},
   "outputs": [],
   "source": [
    "# Check outlier / distribution / unreasonable value\n",
    "trip_data_06[[\"fare_amount\"]].describe()"
   ]
  },
  {
   "cell_type": "code",
   "execution_count": null,
   "id": "6f3970a6",
   "metadata": {},
   "outputs": [],
   "source": [
    "# Easy way to check outlier / distribution\n",
    "trip_data_06[[\"fare_amount\"]].boxplot(vert=False);\n",
    "plt.show()"
   ]
  },
  {
   "cell_type": "code",
   "execution_count": null,
   "id": "002f6a48",
   "metadata": {},
   "outputs": [],
   "source": [
    "# Other way to check outlier / distribution\n",
    "trip_data_06[[\"fare_amount\"]].hist(bins=100);\n",
    "plt.show()"
   ]
  },
  {
   "cell_type": "code",
   "execution_count": null,
   "id": "ec1e2bf0",
   "metadata": {},
   "outputs": [],
   "source": [
    "# Preview minus fare_amount\n",
    "trip_data_06[trip_data_06.fare_amount < 0].fare_amount.describe()"
   ]
  },
  {
   "cell_type": "code",
   "execution_count": null,
   "id": "48a3aac0",
   "metadata": {},
   "outputs": [],
   "source": [
    "# Preview very high fare_amount\n",
    "trip_data_06[\n",
    "    trip_data_06.fare_amount > trip_data_06.fare_amount.quantile(.999999) # 99.9999% data\n",
    "]#.fare_amount.describe()"
   ]
  },
  {
   "cell_type": "markdown",
   "id": "6b84ed1e",
   "metadata": {},
   "source": [
    "> Notes:  \n",
    "\n",
    "- Fare amount have negative value (e.g. -3.5, -5, -10, etc). is it data entry error, refund, discount, or what?\n",
    "- Very high fare amount (e.g. > 500 or more than 99.9999% data) can be outlier or special case (e.g. long distance, luxury car, etc)\n",
    "- Need to check with other columns (e.g. payment_type, extra, mta_tax, tip_amount, tolls_amount, total_amount)\n",
    "- Need to check with trip_distance = 0"
   ]
  },
  {
   "cell_type": "markdown",
   "id": "0e5923cc",
   "metadata": {},
   "source": [
    "#### `VendorID`"
   ]
  },
  {
   "cell_type": "code",
   "execution_count": null,
   "id": "f3d945d4",
   "metadata": {},
   "outputs": [],
   "source": [
    "# Check Unique Value\n",
    "trip_data_06.VendorID.unique()"
   ]
  },
  {
   "cell_type": "code",
   "execution_count": null,
   "id": "4d7b5479",
   "metadata": {},
   "outputs": [],
   "source": [
    "# Check Freq. / Total Data for each VendorID (manual way)\n",
    "for vendor_id in trip_data_06.VendorID.unique():\n",
    "    vendor_id_count = trip_data_06[trip_data_06.VendorID == vendor_id].shape[0]\n",
    "    print(f\"Total Vendor ID {vendor_id} in data: {vendor_id_count} rows\")"
   ]
  },
  {
   "cell_type": "code",
   "execution_count": null,
   "id": "0babac62",
   "metadata": {},
   "outputs": [],
   "source": [
    "# Check Freq. / Total Data for each VendorID (better way)\n",
    "tmp = trip_data_06.copy() # NOTE: This is just a safe way\n",
    "tmp[\"count\"] = 1 # Dummy value\n",
    "tmp.groupby([\"VendorID\"]).count()[\"count\"]"
   ]
  },
  {
   "cell_type": "code",
   "execution_count": null,
   "id": "c06f31e2",
   "metadata": {},
   "outputs": [],
   "source": [
    "# Check Freq. / Total Data for each VendorID (better way)\n",
    "trip_data_06.VendorID.value_counts(\n",
    "    # normalize=True\n",
    ") # * 100"
   ]
  },
  {
   "cell_type": "markdown",
   "id": "4dea7ebb",
   "metadata": {},
   "source": [
    "> Question: What should we do with VendorID except 1 and 2?"
   ]
  },
  {
   "cell_type": "markdown",
   "id": "8642b1cc",
   "metadata": {},
   "source": [
    "#### `trip_distance`"
   ]
  },
  {
   "cell_type": "code",
   "execution_count": null,
   "id": "9550f96b",
   "metadata": {},
   "outputs": [],
   "source": [
    "# Preview trip_distance statistical description again\n",
    "trip_data_06.trip_distance.describe()"
   ]
  },
  {
   "cell_type": "code",
   "execution_count": null,
   "id": "e2dd2769",
   "metadata": {},
   "outputs": [],
   "source": [
    "# Filter very long trip_distance\n",
    "very_long_trip = trip_data_06[\n",
    "    trip_data_06.trip_distance > trip_data_06.trip_distance.quantile(.99995) # 99.9999% data\n",
    "].copy()\n",
    "\n",
    "# Plot very long trip_distance\n",
    "very_long_trip.trip_distance.hist(bins=50);\n",
    "plt.title('Trip Distance > 99.995% Data');\n",
    "plt.xlabel('Trip Distance (miles)');\n",
    "plt.ylabel('Frequency');\n",
    "plt.show();\n",
    "very_long_trip.trip_distance.describe()"
   ]
  },
  {
   "cell_type": "markdown",
   "id": "97d5ac83",
   "metadata": {},
   "source": [
    "> **Multivariate Analysis** "
   ]
  },
  {
   "cell_type": "code",
   "execution_count": null,
   "id": "7c0c176f",
   "metadata": {},
   "outputs": [],
   "source": [
    "# Check fare_amount correlation with trip_distance\n",
    "display(trip_data_06[[\"fare_amount\", \"trip_distance\"]].corr())\n",
    "sns.scatterplot(\n",
    "    data=trip_data_06, \n",
    "    x=\"trip_distance\", \n",
    "    y=\"fare_amount\"\n",
    ")\\\n",
    ".set_title(\"Fare Amount vs Trip Distance\");\n",
    "plt.show()"
   ]
  },
  {
   "cell_type": "markdown",
   "id": "1605c106",
   "metadata": {},
   "source": [
    "#### `passenger_count`"
   ]
  },
  {
   "cell_type": "code",
   "execution_count": null,
   "id": "a3ab5127",
   "metadata": {},
   "outputs": [],
   "source": [
    "# Preview passenger_count statistical description\n",
    "trip_data_06.passenger_count.describe()"
   ]
  },
  {
   "cell_type": "code",
   "execution_count": null,
   "id": "56c77b37",
   "metadata": {},
   "outputs": [],
   "source": [
    "trip_data_06.passenger_count.isnull().sum() "
   ]
  },
  {
   "cell_type": "code",
   "execution_count": null,
   "id": "899b45f9",
   "metadata": {},
   "outputs": [],
   "source": [
    "# Check Passenger Count Distribution\n",
    "(trip_data_06\\\n",
    "    .value_counts(\n",
    "        \"passenger_count\", \n",
    "        normalize=True\n",
    "    ) *100\n",
    ").plot(kind=\"bar\");\n",
    "plt.show();"
   ]
  },
  {
   "cell_type": "code",
   "execution_count": null,
   "id": "fad08a4c",
   "metadata": {},
   "outputs": [],
   "source": [
    "# Better visualization\n",
    "(trip_data_06.value_counts(\"passenger_count\", normalize=True) *100).sort_index().plot(kind=\"bar\", rot=0);\n",
    "plt.xlabel(\"Passenger Count\");\n",
    "plt.ylabel(\"Percentage (%)\");\n",
    "plt.title(\"Distribution of Passenger Count\");\n",
    "plt.show();"
   ]
  },
  {
   "cell_type": "code",
   "execution_count": null,
   "id": "89babf67",
   "metadata": {},
   "outputs": [],
   "source": [
    "# Average fare_amount by passenger_count.\n",
    "# Alternative 1: by grouping\n",
    "trip_data_06[[\n",
    "    \"fare_amount\",\n",
    "    \"passenger_count\"\n",
    "]].groupby(\"passenger_count\").mean()"
   ]
  },
  {
   "cell_type": "code",
   "execution_count": null,
   "id": "a2154555",
   "metadata": {},
   "outputs": [],
   "source": [
    "# Average fare_amount by passenger_count.\n",
    "# Alternative 2: by pivot_table\n",
    "# NOTE: uncomment the plot code to visualize\n",
    "trip_data_06.pivot_table(\n",
    "    values=\"fare_amount\",\n",
    "    index=\"passenger_count\",\n",
    "    aggfunc=\"mean\"\n",
    ")#\\\n",
    "#.plot(kind=\"bar\");\n",
    "#plt.show()"
   ]
  },
  {
   "cell_type": "code",
   "execution_count": null,
   "id": "ded1f9f5",
   "metadata": {},
   "outputs": [],
   "source": [
    "# For better visualization\n",
    "# Filter data, remove NaN, convert to int, than plot\n",
    "tmp_df = trip_data_06[[\"fare_amount\", \"passenger_count\"]].copy()\n",
    "tmp_df.dropna(subset=[\"passenger_count\"], inplace=True)\n",
    "tmp_df.passenger_count = tmp_df.passenger_count.astype(int)\n",
    "tmp_df.pivot_table(\n",
    "    values=\"fare_amount\",\n",
    "    index=\"passenger_count\",\n",
    "    aggfunc=\"mean\"\n",
    ")\\\n",
    ".plot(kind=\"bar\", rot=0);\n",
    "plt.xlabel(\"Passenger Count\");\n",
    "plt.ylabel(\"Average Fare Amount ($)\");\n",
    "plt.title(\"Average Fare Amount by Passenger Count\");\n",
    "plt.show()"
   ]
  },
  {
   "cell_type": "markdown",
   "id": "d25f2d93",
   "metadata": {},
   "source": [
    "#### `<Other Features>`"
   ]
  },
  {
   "cell_type": "code",
   "execution_count": null,
   "id": "d7d2182c",
   "metadata": {},
   "outputs": [],
   "source": [
    "# NOTE: please explore it yourself ;)\n"
   ]
  },
  {
   "cell_type": "markdown",
   "id": "d7e1d239",
   "metadata": {},
   "source": [
    "#### **Checkpoints**:\n",
    "\n",
    "What you have learned so far (in terms of idea): \n",
    "1. Understand the data (data types, missing values, duplicates, basic statistics)\n",
    "2. Identify potential issues (outliers, unreasonable values)\n",
    "3. Works with numerical and categorical variables\n",
    "\n",
    "What you have learned so far (in terms of technical): \n",
    "1. Simple visualization (boxplot, histogram)\n",
    "2. Statistical summary / descriptive for numerical (mean, median, std, min, max, quantiles)\n",
    "3. Statistical summary / descriptive for categorical (mode, freq., n_unique)\n",
    "4. Filtering Dataframe\n",
    "5. Univariate analysis (focus on one variable at a time)\n",
    "6. Multivariate analysis (focus on more than one variable)\n",
    "7. Data aggregation\n",
    "5. Create visualization (basic and better)"
   ]
  },
  {
   "cell_type": "markdown",
   "id": "3235e571",
   "metadata": {},
   "source": [
    "# Pre-processing"
   ]
  },
  {
   "cell_type": "markdown",
   "id": "d024a1ea",
   "metadata": {},
   "source": [
    "## Combine Data"
   ]
  },
  {
   "cell_type": "code",
   "execution_count": null,
   "id": "7d7dd019",
   "metadata": {},
   "outputs": [],
   "source": [
    "# Concat two months data\n",
    "trip_data_07 = pd.read_parquet('./data/yellow_tripdata_2025-07.parquet')\n",
    "trip_data = pd.concat([trip_data_06, trip_data_07])"
   ]
  },
  {
   "cell_type": "code",
   "execution_count": null,
   "id": "077cb99f",
   "metadata": {},
   "outputs": [],
   "source": [
    "# Merge with taxi zone data\n",
    "trip_data = trip_data.merge(taxi_zone, left_on='PULocationID', right_on='LocationID', how='left')\n",
    "trip_data = trip_data.merge(taxi_zone, left_on='DOLocationID', right_on='LocationID', how='left', suffixes=('_PULocation', '_DOLocation'))"
   ]
  },
  {
   "cell_type": "code",
   "execution_count": null,
   "id": "71ce7ad5",
   "metadata": {},
   "outputs": [],
   "source": [
    "display(trip_data.head(2))\n",
    "display(trip_data.tail(2))"
   ]
  },
  {
   "cell_type": "markdown",
   "id": "4fa7098a",
   "metadata": {},
   "source": [
    "### Tips & Trick: **Optimization Dtype**"
   ]
  },
  {
   "cell_type": "code",
   "execution_count": null,
   "id": "545c3130",
   "metadata": {},
   "outputs": [],
   "source": [
    "# Store original data (for comparation purpose)\n",
    "trip_data_ori = trip_data.copy()\n",
    "\n",
    "# Columns that should be int\n",
    "should_be_int = [\n",
    "    \"VendorID\",\n",
    "    \"passenger_count\",\n",
    "    \"RatecodeID\",\n",
    "    \"payment_type\",\n",
    "    \"PULocationID\",\n",
    "    \"DOLocationID\",\n",
    "]\n",
    "\n",
    "# Convert to int\n",
    "for col in should_be_int:\n",
    "    trip_data[col] = trip_data[col].fillna(-1).astype(int) # Pandas nullable integer type\n",
    "\n",
    "# Optimize dataset (in term of memory usage)\n",
    "for col in trip_data.select_dtypes(\"float64\").columns:\n",
    "    trip_data[col] = pd.to_numeric(trip_data[col], downcast=\"float\")\n",
    "for col in trip_data.select_dtypes(\"int32\").columns:\n",
    "    trip_data[col] = pd.to_numeric(trip_data[col], downcast=\"integer\")"
   ]
  },
  {
   "cell_type": "code",
   "execution_count": null,
   "id": "60364cae",
   "metadata": {},
   "outputs": [],
   "source": [
    "trip_data_ori.info()"
   ]
  },
  {
   "cell_type": "code",
   "execution_count": null,
   "id": "17afb7e9",
   "metadata": {},
   "outputs": [],
   "source": [
    "trip_data.info()"
   ]
  },
  {
   "cell_type": "markdown",
   "id": "2357fa31",
   "metadata": {},
   "source": [
    "## Feature Engineering"
   ]
  },
  {
   "cell_type": "code",
   "execution_count": null,
   "id": "4acb7938",
   "metadata": {},
   "outputs": [],
   "source": [
    "# Create derrived features\n",
    "trip_data[\"pickup_hour\"] =  trip_data[\"tpep_pickup_datetime\"].dt.hour\n",
    "trip_data[\"pickup_day\"] =  trip_data[\"tpep_pickup_datetime\"].dt.weekday"
   ]
  },
  {
   "cell_type": "code",
   "execution_count": null,
   "id": "fd7b2317",
   "metadata": {},
   "outputs": [],
   "source": [
    "# Average fare_amount by pickup_hour\n",
    "trip_data.pivot_table(\n",
    "    values=\"fare_amount\",\n",
    "    index=\"pickup_hour\",\n",
    "    aggfunc=\"mean\"\n",
    ").plot(kind=\"bar\", rot=0, figsize=(10,3), legend=False);\n",
    "plt.xlabel(\"Hour of Day\");\n",
    "plt.ylabel(\"Average Fare Amount ($)\");\n",
    "plt.title(\"Average Fare Amount by Hour of Day\");\n",
    "plt.show()\n",
    "\n",
    "# Average fare_amount by pickup_day\n",
    "trip_data.pivot_table(\n",
    "    values=\"fare_amount\",\n",
    "    index=\"pickup_day\",\n",
    "    aggfunc=\"mean\"\n",
    ").plot(kind=\"bar\", rot=0, figsize=(10,3), legend=False);\n",
    "plt.xlabel(\"Day of Week\");\n",
    "plt.ylabel(\"Average Fare Amount ($)\");\n",
    "plt.title(\"Average Fare Amount by  Day of Week\");\n",
    "plt.show()"
   ]
  },
  {
   "cell_type": "code",
   "execution_count": null,
   "id": "7d4caf67",
   "metadata": {},
   "outputs": [],
   "source": [
    "# Create a copy of selected columns to analyze time-related patterns\n",
    "time_perspective = trip_data[[\"tpep_pickup_datetime\", \"fare_amount\"]].copy()\n",
    "\n",
    "# Extract hour of day and weekday number (0 = Monday, 6 = Sunday)\n",
    "time_perspective[\"hour\"] = time_perspective[\"tpep_pickup_datetime\"].dt.hour\n",
    "time_perspective[\"weekday\"] = time_perspective[\"tpep_pickup_datetime\"].dt.weekday\n",
    "time_perspective[\"date\"] = time_perspective[\"tpep_pickup_datetime\"].dt.date\n",
    "\n",
    "# Map weekday numbers to weekday names (e.g., 0 → Monday)\n",
    "weekday_map = {i: calendar.day_name[i] for i in range(7)}\n",
    "time_perspective[\"weekday_name\"] = time_perspective[\"weekday\"].map(weekday_map)\n",
    "\n",
    "# ==== 1) Average fare amount by day of week and hour ====\n",
    "\n",
    "# Create a pivot table for the average fare\n",
    "heatmap_fare = time_perspective.pivot_table(\n",
    "    index=\"weekday_name\",\n",
    "    columns=\"hour\",\n",
    "    values=\"fare_amount\",\n",
    "    aggfunc=\"mean\"\n",
    ")\n",
    "\n",
    "# Sort rows from Monday to Sunday\n",
    "heatmap_fare = heatmap_fare.reindex([calendar.day_name[i] for i in range(7)])\n",
    "\n",
    "# Plot heatmap of average fares\n",
    "plt.figure(figsize=(12, 4))\n",
    "ax = sns.heatmap(\n",
    "    heatmap_fare,\n",
    "    cmap=\"RdYlGn_r\",\n",
    "    cbar_kws={\"label\": \"Average Fare Amount (USD)\"}\n",
    ")\n",
    "\n",
    "# Add labels and title\n",
    "ax.set_xlabel(\"Hour of Day\", fontsize=12)\n",
    "ax.set_ylabel(\"Day of Week\", fontsize=12)\n",
    "plt.xticks(rotation=0)\n",
    "plt.yticks(rotation=0)\n",
    "plt.title(\"Average Trip Fare by Day of Week and Hour\", fontsize=16, weight=\"bold\")\n",
    "plt.tight_layout()\n",
    "plt.show()\n",
    "\n",
    "# ==== 2) Trip counts by day of week and hour ====\n",
    "\n",
    "# Create a pivot table for the number of trips\n",
    "heatmap_counts = time_perspective.pivot_table(\n",
    "    index=\"weekday_name\",\n",
    "    columns=\"hour\",\n",
    "    values=\"date\",\n",
    "    aggfunc=\"count\"\n",
    ")\n",
    "\n",
    "# Sort rows from Monday to Sunday\n",
    "heatmap_counts = heatmap_counts.reindex([calendar.day_name[i] for i in range(7)])\n",
    "\n",
    "# Plot heatmap of trip counts\n",
    "plt.figure(figsize=(12, 4))\n",
    "ax = sns.heatmap(\n",
    "    heatmap_counts,\n",
    "    cmap=\"RdYlGn_r\",\n",
    "    cbar_kws={\"label\": \"Number of Trips\"}\n",
    ")\n",
    "\n",
    "# Add labels and title\n",
    "ax.set_xlabel(\"Hour of Day\", fontsize=12)\n",
    "ax.set_ylabel(\"Day of Week\", fontsize=12)\n",
    "plt.xticks(rotation=0)\n",
    "plt.yticks(rotation=0)\n",
    "plt.title(\"Trip Counts by Day of Week and Hour\", fontsize=16, weight=\"bold\")\n",
    "plt.tight_layout()\n",
    "plt.show()\n"
   ]
  },
  {
   "cell_type": "markdown",
   "id": "52b6f71b",
   "metadata": {},
   "source": [
    "## Feature Selection"
   ]
  },
  {
   "cell_type": "code",
   "execution_count": null,
   "id": "bd88e889",
   "metadata": {},
   "outputs": [],
   "source": [
    "target = \"fare_amount\"\n",
    "features = [\n",
    "    \"trip_distance\",\n",
    "    \"VendorID\",\n",
    "    \"passenger_count\",\n",
    "    \"pickup_hour\",\n",
    "    \"pickup_day\",\n",
    "\n",
    "]\n",
    "\n",
    "trip_data_clean = trip_data[features + [target]].copy()\n",
    "trip_data_clean.info()"
   ]
  },
  {
   "cell_type": "code",
   "execution_count": null,
   "id": "d0549bfe",
   "metadata": {},
   "outputs": [],
   "source": [
    "# Optimize dataset (in term of memory usage/size)\n",
    "trip_data_clean.VendorID = trip_data_clean.VendorID.astype('uint8')\n",
    "trip_data_clean.pickup_hour = trip_data_clean.pickup_hour.astype('uint8')\n",
    "trip_data_clean.pickup_day = trip_data_clean.pickup_day.astype('uint8')\n",
    "trip_data_clean.fare_amount = trip_data_clean.fare_amount.astype('float32')\n",
    "trip_data_clean.trip_distance = trip_data_clean.trip_distance.astype('float32')\n",
    "trip_data_clean.info()"
   ]
  },
  {
   "cell_type": "markdown",
   "id": "1270133c",
   "metadata": {},
   "source": [
    "> Notes: _We shrank the data size by over **94%**, dropping **from ~1.6 GB to only ~94 MB**._"
   ]
  },
  {
   "cell_type": "markdown",
   "id": "5d80c365",
   "metadata": {},
   "source": [
    "## Data Cleaning"
   ]
  },
  {
   "cell_type": "markdown",
   "id": "0c832e93",
   "metadata": {},
   "source": [
    "### Handle Duplicates (if any)"
   ]
  },
  {
   "cell_type": "code",
   "execution_count": null,
   "id": "aa0f74de",
   "metadata": {},
   "outputs": [],
   "source": [
    "# Check duplicates\n",
    "total_duplicates_data = trip_data_clean.duplicated().sum()\n",
    "print(f\"Total Duplicates Data: {total_duplicates_data.sum()} rows / {total_duplicates_data / trip_data_clean.shape[0] * 100:.2f}%\")\n",
    "\n",
    "# Preview duplicates\n",
    "trip_data_clean[trip_data_clean.duplicated(keep=False)].sort_values(by=target)"
   ]
  },
  {
   "cell_type": "code",
   "execution_count": null,
   "id": "46943db1",
   "metadata": {},
   "outputs": [],
   "source": [
    "# Keep all if want to analyze duplicates later\n",
    "dup_data = trip_data_clean.duplicated(keep=False)\n",
    "\n",
    "# Drop duplicates\n",
    "trip_data_clean = trip_data_clean.drop_duplicates(keep=\"first\")\n",
    "trip_data_clean.reset_index(drop=True, inplace=True)\n",
    "trip_data_clean.info()"
   ]
  },
  {
   "cell_type": "markdown",
   "id": "db368fac",
   "metadata": {},
   "source": [
    "### Handling Missing Value (if any)"
   ]
  },
  {
   "cell_type": "code",
   "execution_count": null,
   "id": "d47446cf",
   "metadata": {},
   "outputs": [],
   "source": [
    "# Check missing value\n",
    "trip_data_clean.isnull().sum()"
   ]
  },
  {
   "cell_type": "markdown",
   "id": "84b354c5",
   "metadata": {},
   "source": [
    "> Notes: remember that we change / fillna by -1 earlier"
   ]
  },
  {
   "cell_type": "code",
   "execution_count": null,
   "id": "fc90ce6d",
   "metadata": {},
   "outputs": [],
   "source": [
    "# Review data with passenger_count missing value vs complete\n",
    "display(trip_data_clean[trip_data_clean.passenger_count.isnull()].describe()) \n",
    "display(trip_data_clean[~trip_data_clean.passenger_count.isnull()].describe()) "
   ]
  },
  {
   "cell_type": "code",
   "execution_count": null,
   "id": "48f0a1a9",
   "metadata": {},
   "outputs": [],
   "source": [
    "# Check Mode for passenger_count\n",
    "(trip_data_clean.passenger_count.value_counts(normalize=True)*100).sort_index().plot(kind=\"bar\", rot=0, figsize=(10,3));\n",
    "plt.xlabel(\"Passenger Count\");\n",
    "plt.ylabel(\"Percentage (%)\");\n",
    "plt.title(\"Distribution of Passenger Count\");\n",
    "plt.show()"
   ]
  },
  {
   "cell_type": "code",
   "execution_count": null,
   "id": "3e06d378",
   "metadata": {},
   "outputs": [],
   "source": [
    "# Fillna with mode\n",
    "mode_passenger_count = 1\n",
    "trip_data_clean.passenger_count = trip_data_clean.passenger_count.replace(-1, mode_passenger_count)"
   ]
  },
  {
   "cell_type": "code",
   "execution_count": null,
   "id": "6995a6ce",
   "metadata": {},
   "outputs": [],
   "source": [
    "# Check Mode for passenger_count\n",
    "(trip_data_clean.passenger_count.value_counts(normalize=True)*100).sort_index().plot(kind=\"bar\", rot=0, figsize=(10,3));\n",
    "plt.xlabel(\"Passenger Count\");\n",
    "plt.ylabel(\"Percentage (%)\");\n",
    "plt.title(\"Distribution of Passenger Count (After Fillna / Replacing -1 with Mode)\");\n",
    "plt.show()"
   ]
  },
  {
   "cell_type": "markdown",
   "id": "5ae8fbf9",
   "metadata": {},
   "source": [
    "### Handling Outlier (if any)"
   ]
  },
  {
   "cell_type": "code",
   "execution_count": null,
   "id": "9a81ebab",
   "metadata": {},
   "outputs": [],
   "source": [
    "# trip_data_clean.describe()# .corr()[[target]].sort_values(by=[target], ascending=False).style.background_gradient(cmap='bwr')\n",
    "numerical_features = [\n",
    "    'trip_distance',\n",
    "    'passenger_count',\n",
    "    'fare_amount',\n",
    "]\n",
    "categorical_features = [\n",
    "    'VendorID',\n",
    "    'pickup_hour',\n",
    "    'pickup_day',\n",
    "]\n",
    "for col in numerical_features:\n",
    "    print(f\"Statistical Description of `{col}`:\")\n",
    "    print(trip_data_clean[col].describe().round(2))\n",
    "    trip_data_clean[[col]].boxplot(rot=0, figsize=(8,3), vert=False);\n",
    "    plt.title(f\"Boxplot of `{col}`\");\n",
    "    plt.show()\n",
    "    print(\"\\n\")"
   ]
  },
  {
   "cell_type": "code",
   "execution_count": null,
   "id": "a64ad124",
   "metadata": {},
   "outputs": [],
   "source": [
    "# Option 1: Remove outliers using IQR rule\n",
    "def remove_outliers_iqr(df, columns, multiplier=1.5):\n",
    "    \"\"\"\n",
    "    Remove outliers from selected numeric columns using the IQR rule.\n",
    "\n",
    "    Parameters\n",
    "    ----------\n",
    "    df : pandas.DataFrame\n",
    "        The input DataFrame.\n",
    "    columns : list of str\n",
    "        List of column names where you want to remove outliers.\n",
    "    multiplier : float, optional, default=1.5\n",
    "        The IQR multiplier (1.5 is common; use 3.0 for more relaxed filtering).\n",
    "\n",
    "    Returns\n",
    "    -------\n",
    "    pandas.DataFrame\n",
    "        A copy of the DataFrame with outliers removed.\n",
    "    \"\"\"\n",
    "    clean_df = df.copy()\n",
    "\n",
    "    for col in columns:\n",
    "        if col not in clean_df.columns:\n",
    "            raise KeyError(f\"Column '{col}' not found in DataFrame.\")\n",
    "\n",
    "        if not pd.api.types.is_numeric_dtype(clean_df[col]):\n",
    "            raise TypeError(f\"Column '{col}' is not numeric.\")\n",
    "\n",
    "        q1 = clean_df[col].quantile(0.25)\n",
    "        q3 = clean_df[col].quantile(0.75)\n",
    "        iqr = q3 - q1\n",
    "        lower = q1 - multiplier * iqr\n",
    "        upper = q3 + multiplier * iqr\n",
    "\n",
    "        clean_df = clean_df[(clean_df[col] >= lower) & (clean_df[col] <= upper)]\n",
    "\n",
    "    return clean_df\n",
    "\n",
    "filtered_with_iqr = remove_outliers_iqr(trip_data_clean, [\"fare_amount\", \"trip_distance\"])\n",
    "filtered_with_iqr.reset_index(drop=True, inplace=True)\n",
    "\n",
    "# Option 2: Remove outliers using Percentile method\n",
    "MAX_PERCENTILE = .9999\n",
    "trip_data_clean.fare_amount.quantile(MAX_PERCENTILE), trip_data_clean.trip_distance.quantile(MAX_PERCENTILE)\n",
    "filtered_with_percentile = trip_data_clean[\n",
    "    (trip_data_clean.fare_amount <= trip_data_clean.fare_amount.quantile(MAX_PERCENTILE)) &\n",
    "    (trip_data_clean.trip_distance <= trip_data_clean.trip_distance.quantile(MAX_PERCENTILE))\n",
    "]\n",
    "filtered_with_percentile.reset_index(drop=True, inplace=True)\n",
    "\n",
    "# Option 3: Manual filtering\n",
    "filtered_manual = trip_data_clean[\n",
    "    (trip_data_clean.fare_amount > 0) & \n",
    "    (trip_data_clean.fare_amount < 500) &\n",
    "    (trip_data_clean.trip_distance > 0) &\n",
    "    (trip_data_clean.trip_distance < 250)\n",
    "]\n",
    "filtered_manual.reset_index(drop=True, inplace=True)\n",
    "\n",
    "# Preview filtered data\n",
    "for col in [\"fare_amount\", \"trip_distance\"]:\n",
    "    filtered_with_percentile[[col]].boxplot(rot=0, figsize=(8,3), vert=False);\n",
    "    plt.title(f\"Boxplot of `{col}` after removing outliers using Percentile method\");\n",
    "    plt.show()\n",
    "    print(\"\\n\")\n",
    "print(f\"Reduced {trip_data_clean.shape[0]-filtered_with_percentile.shape[0]} rows to \",\n",
    "      f\"{(trip_data_clean.shape[0]-filtered_with_percentile.shape[0])/trip_data_clean.shape[0]*100:.2f}% rows after removing outliers using Percentile method.\")\n",
    "\n",
    "for col in [\"fare_amount\", \"trip_distance\"]:\n",
    "    filtered_with_iqr[[col]].boxplot(rot=0, figsize=(8,3), vert=False);\n",
    "    plt.title(f\"Boxplot of `{col}` after removing outliers using IQR method\");\n",
    "    plt.show()\n",
    "    print(\"\\n\")\n",
    "print(f\"Reduced {trip_data_clean.shape[0]-filtered_with_iqr.shape[0]} rows to \",\n",
    "      f\"{(trip_data_clean.shape[0]-filtered_with_iqr.shape[0])/trip_data_clean.shape[0]*100:.2f}% rows after removing outliers using IQR method.\")\n",
    "\n",
    "for col in [\"fare_amount\", \"trip_distance\"]:\n",
    "    filtered_manual[[col]].boxplot(rot=0, figsize=(8,3), vert=False);\n",
    "    plt.title(f\"Boxplot of `{col}` after removing outliers using Manual Filtering\");\n",
    "    plt.show()\n",
    "    print(\"\\n\")\n",
    "print(f\"Reduced {trip_data_clean.shape[0]-filtered_manual.shape[0]} rows to \",\n",
    "      f\"{(trip_data_clean.shape[0]-filtered_manual.shape[0])/trip_data_clean.shape[0]*100:.2f}% rows after removing outliers using Manual Filtering.\")\n"
   ]
  },
  {
   "cell_type": "code",
   "execution_count": null,
   "id": "580c27d5",
   "metadata": {},
   "outputs": [],
   "source": [
    "# Compare correlation after outlier removal\n",
    "display(filtered_with_iqr.corr()[[target]].drop(target).sort_values(by=[target], ascending=False).style.background_gradient(cmap='bwr'))\n",
    "display(filtered_with_percentile.corr()[[target]].drop(target).sort_values(by=[target], ascending=False).style.background_gradient(cmap='bwr'))\n",
    "display(filtered_manual.corr()[[target]].drop(target).sort_values(by=[target], ascending=False).style.background_gradient(cmap='bwr'))"
   ]
  },
  {
   "cell_type": "code",
   "execution_count": null,
   "id": "a9bd6445",
   "metadata": {},
   "outputs": [],
   "source": [
    "# Check fare_amount correlation with trip_distance (after outlier removal) with viz.\n",
    "sns.scatterplot(\n",
    "    data=filtered_manual, \n",
    "    x=\"trip_distance\", \n",
    "    y=\"fare_amount\"\n",
    ")\\\n",
    ".set_title(\"Fare Amount vs Trip Distance\");\n",
    "\n",
    "plt.show()"
   ]
  },
  {
   "cell_type": "markdown",
   "id": "39e9e906",
   "metadata": {},
   "source": [
    "## Preview Clean Data"
   ]
  },
  {
   "cell_type": "code",
   "execution_count": null,
   "id": "1fcac630",
   "metadata": {},
   "outputs": [],
   "source": [
    "filtered_manual.sample(10)"
   ]
  },
  {
   "cell_type": "code",
   "execution_count": null,
   "id": "70709f75",
   "metadata": {},
   "outputs": [],
   "source": [
    "filtered_manual.info()"
   ]
  },
  {
   "cell_type": "code",
   "execution_count": null,
   "id": "758aa2c6",
   "metadata": {},
   "outputs": [],
   "source": [
    "filtered_manual.describe()"
   ]
  },
  {
   "cell_type": "markdown",
   "id": "8b1bf136",
   "metadata": {},
   "source": [
    "#### **Checkpoints**:\n",
    "\n",
    "What you have learned so far (in terms of idea): \n",
    "1. Handling duplicate value\n",
    "2. Handling missing value\n",
    "3. Handling outlier"
   ]
  },
  {
   "cell_type": "markdown",
   "id": "54db70e3",
   "metadata": {},
   "source": [
    "# Export Data"
   ]
  },
  {
   "cell_type": "code",
   "execution_count": null,
   "id": "12c5e86e",
   "metadata": {},
   "outputs": [],
   "source": [
    "filtered_manual.to_parquet('./data/trip_data_clean.parquet', index=False)\n",
    "filtered_manual.to_csv('./data/trip_data_clean.csv', index=False)"
   ]
  }
 ],
 "metadata": {
  "kernelspec": {
   "display_name": "boom-himatika-its",
   "language": "python",
   "name": "python3"
  },
  "language_info": {
   "codemirror_mode": {
    "name": "ipython",
    "version": 3
   },
   "file_extension": ".py",
   "mimetype": "text/x-python",
   "name": "python",
   "nbconvert_exporter": "python",
   "pygments_lexer": "ipython3",
   "version": "3.11.9"
  }
 },
 "nbformat": 4,
 "nbformat_minor": 5
}
