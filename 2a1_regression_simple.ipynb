{
 "cells": [
  {
   "cell_type": "markdown",
   "id": "748bb4d3",
   "metadata": {},
   "source": [
    "# Init."
   ]
  },
  {
   "cell_type": "code",
   "execution_count": null,
   "id": "65bf1939",
   "metadata": {},
   "outputs": [],
   "source": [
    "import pandas as pd\n",
    "import numpy as np\n",
    "from sklearn.model_selection import train_test_split\n",
    "from sklearn.linear_model import LinearRegression\n",
    "from sklearn.tree import DecisionTreeRegressor\n",
    "from sklearn.metrics import(\n",
    "    mean_absolute_error as MAE,\n",
    "    mean_squared_error as MSE,\n",
    "    mean_absolute_percentage_error as MAPE,\n",
    "\n",
    ")\n",
    "import joblib\n",
    "import warnings\n",
    "warnings.filterwarnings('ignore')"
   ]
  },
  {
   "cell_type": "markdown",
   "id": "b9066510",
   "metadata": {},
   "source": [
    "# Prep."
   ]
  },
  {
   "cell_type": "code",
   "execution_count": null,
   "id": "a9e5316d",
   "metadata": {},
   "outputs": [],
   "source": [
    "data = pd.read_parquet(\"./data/trip_data_clean.parquet\")\n",
    "data.info()\n",
    "data.sample(5)"
   ]
  },
  {
   "cell_type": "markdown",
   "id": "bca53420",
   "metadata": {},
   "source": [
    "## Split Data"
   ]
  },
  {
   "cell_type": "code",
   "execution_count": null,
   "id": "afc60cab",
   "metadata": {},
   "outputs": [],
   "source": [
    "features = data.columns[:1]\n",
    "target = data.columns[-1]\n",
    "\n",
    "X = data[features]\n",
    "y = data[target]\n",
    "\n",
    "X_train, X_test, y_train, y_test = train_test_split(\n",
    "    X,\n",
    "    y,\n",
    "    test_size=0.2,\n",
    "    random_state=42,\n",
    ")\n",
    "X_train.shape, X_test.shape, y_train.shape, y_test.shape"
   ]
  },
  {
   "cell_type": "markdown",
   "id": "e53b35fe",
   "metadata": {},
   "source": [
    "# Modeling"
   ]
  },
  {
   "cell_type": "code",
   "execution_count": null,
   "id": "dfecd5dc",
   "metadata": {},
   "outputs": [],
   "source": [
    "# Baseline Model 1: Random Prediction\n",
    "def random_predict(X):\n",
    "    np.random.seed(42)\n",
    "    return np.random.uniform(low=y.min(), high=y.max(), size=len(X))\n",
    "\n",
    "# Baseline Model 2: Linear Regression\n",
    "lr_model = LinearRegression()\n",
    "lr_model.fit(X_train, y_train)\n",
    "lr_train_pred = lr_model.predict(X_train)\n",
    "lr_test_pred = lr_model.predict(X_test)\n",
    "\n",
    "# Expected Best Model: Decision Tree Regressor\n",
    "dt_model = DecisionTreeRegressor(random_state=42)\n",
    "dt_model.fit(X_train, y_train)\n",
    "dt_train_pred = dt_model.predict(X_train)\n",
    "dt_test_pred = dt_model.predict(X_test)"
   ]
  },
  {
   "cell_type": "markdown",
   "id": "728d1b37",
   "metadata": {},
   "source": [
    "# Evaluation"
   ]
  },
  {
   "cell_type": "code",
   "execution_count": null,
   "id": "911ff2b5",
   "metadata": {},
   "outputs": [],
   "source": [
    "df_metrics = pd.DataFrame(columns=[\"Model\", \"Set_Category\", \"MAE\", \"MSE\", \"RMSE\", \"MAPE\"])\n",
    "\n",
    "def evaluate_model(name, dataset, y_true, y_pred):\n",
    "    mae = MAE(y_true, y_pred)\n",
    "    mse = MSE(y_true, y_pred)\n",
    "    rmse = np.sqrt(mse)\n",
    "    mape = MAPE(y_true, y_pred)\n",
    "\n",
    "    df_metrics.loc[len(df_metrics)] = [name, dataset, mae, mse, rmse, mape]\n",
    "    return df_metrics\n",
    "\n",
    "# Evaluate Random Prediction\n",
    "evaluate_model(\"Random Prediction\", \"Train\", y_train, random_predict(X_train))\n",
    "evaluate_model(\"Random Prediction\", \"Test\", y_test, random_predict(X_test))\n",
    "# Evaluate Linear Regression\n",
    "evaluate_model(\"Linear Regression\", \"Train\", y_train, lr_train_pred)\n",
    "evaluate_model(\"Linear Regression\", \"Test\", y_test, lr_test_pred)\n",
    "# Evaluate Decision Tree Regressor\n",
    "evaluate_model(\"Decision Tree Regressor\", \"Train\", y_train, dt_train_pred)\n",
    "evaluate_model(\"Decision Tree Regressor\", \"Test\", y_test, dt_test_pred)\n",
    "\n",
    "df_metrics"
   ]
  },
  {
   "cell_type": "markdown",
   "id": "b3701d9d",
   "metadata": {},
   "source": [
    "## Check Fit Status (Good, Underfit, or Overfit)"
   ]
  },
  {
   "cell_type": "code",
   "execution_count": null,
   "id": "7ed71fa8",
   "metadata": {},
   "outputs": [],
   "source": [
    "def check_fit_status(df, metric=\"MAE\", threshold=0.1):\n",
    "    \"\"\"\n",
    "    Classify models as Overfit / Underfit / Good fit.\n",
    "\n",
    "    Parameters\n",
    "    ----------\n",
    "    df : pd.DataFrame\n",
    "        Must contain columns [\"Model\", \"Set_Category\", metric]\n",
    "    metric : str, default=\"RMSE\"\n",
    "        Metric to compare between Train and Test\n",
    "    threshold : float, default=0.2\n",
    "        Relative tolerance (20% by default).\n",
    "        If |Train - Test| > threshold * min(Train, Test), considered misfit.\n",
    "\n",
    "    Returns\n",
    "    -------\n",
    "    pd.DataFrame\n",
    "        Original df with an extra column 'Fit_Status'\n",
    "    \"\"\"\n",
    "    result = df.copy()\n",
    "\n",
    "    # Create a column for Fit_Status only for the Test rows\n",
    "    result[\"Fit_Status\"] = None\n",
    "\n",
    "    # Work model by model\n",
    "    for model in result[\"Model\"].unique():\n",
    "        train_row = result[(result.Model == model) & (result.Set_Category == \"Train\")].iloc[0]\n",
    "        test_row = result[(result.Model == model) & (result.Set_Category == \"Test\")].iloc[0]\n",
    "\n",
    "        train_err = train_row[metric]\n",
    "        test_err = test_row[metric]\n",
    "\n",
    "        gap = abs(test_err - train_err)\n",
    "        rel_gap = gap / min(train_err, test_err)\n",
    "\n",
    "        if rel_gap <= threshold:\n",
    "            status = \"Good fit\"\n",
    "        else:\n",
    "            if test_err > train_err:\n",
    "                status = \"Overfit (high test error)\"\n",
    "            else:\n",
    "                status = \"Underfit (high train error)\"  # rare but possible\n",
    "\n",
    "        # Assign status to the test row\n",
    "        idx = result[(result.Model == model) & (result.Set_Category == \"Test\")].index\n",
    "        result.loc[idx, \"Fit_Status\"] = status\n",
    "\n",
    "    return result\n",
    "\n",
    "df_metrics = check_fit_status(df_metrics) \n",
    "df_metrics"
   ]
  },
  {
   "cell_type": "markdown",
   "id": "1fda8d75",
   "metadata": {},
   "source": [
    "# Use Model"
   ]
  },
  {
   "cell_type": "code",
   "execution_count": null,
   "id": "3f60645f",
   "metadata": {},
   "outputs": [],
   "source": [
    "# Manual prediction using Linear Regression coefficients\n",
    "a = lr_model.coef_[0]\n",
    "b = lr_model.intercept_\n",
    "\n",
    "f_x = lambda x: a*x + b\n",
    "print(f\"f(x) = {a} * x + {b}\")\n",
    "print(f\"f(`trip_distance`) = {a} * `trip_distance` + {b}\", \"\\n\")\n",
    "\n",
    "print(f\"f(10) = $ {f_x(10).round(2)}\")\n",
    "print(f\"f(20) = $ {f_x(20).round(2)}\")\n",
    "print(f\"f(30) = $ {f_x(30).round(2)}\")"
   ]
  },
  {
   "cell_type": "code",
   "execution_count": null,
   "id": "6dbbdfa1",
   "metadata": {},
   "outputs": [],
   "source": [
    "# Prediction using Linear Regression model\n",
    "lr_model.predict([[10]]).round(2), lr_model.predict([[20]]).round(2), lr_model.predict([[30]]).round(2)"
   ]
  },
  {
   "cell_type": "code",
   "execution_count": null,
   "id": "074c0510",
   "metadata": {},
   "outputs": [],
   "source": [
    "# Prediction using Decisiont Tree Regressor\n",
    "dt_model.predict([[10]]).round(2), dt_model.predict([[20]]).round(2), dt_model.predict([[30]]).round(2)"
   ]
  },
  {
   "cell_type": "code",
   "execution_count": null,
   "id": "19fe8796",
   "metadata": {},
   "outputs": [],
   "source": [
    "# Export Model\n",
    "joblib.dump(lr_model, \"./model/lr.joblib\")\n",
    "joblib.dump(dt_model, \"./model/dt.joblib\")\n"
   ]
  }
 ],
 "metadata": {
  "kernelspec": {
   "display_name": "boom-himatika-its",
   "language": "python",
   "name": "python3"
  },
  "language_info": {
   "codemirror_mode": {
    "name": "ipython",
    "version": 3
   },
   "file_extension": ".py",
   "mimetype": "text/x-python",
   "name": "python",
   "nbconvert_exporter": "python",
   "pygments_lexer": "ipython3",
   "version": "3.11.9"
  }
 },
 "nbformat": 4,
 "nbformat_minor": 5
}
