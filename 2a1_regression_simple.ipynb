{
 "cells": [
  {
   "cell_type": "markdown",
   "id": "748bb4d3",
   "metadata": {},
   "source": [
    "# Init."
   ]
  },
  {
   "cell_type": "code",
   "execution_count": 1,
   "id": "65bf1939",
   "metadata": {},
   "outputs": [],
   "source": [
    "import pandas as pd\n",
    "import numpy as np\n",
    "from sklearn.model_selection import train_test_split\n",
    "from sklearn.linear_model import LinearRegression\n",
    "from sklearn.tree import DecisionTreeRegressor\n",
    "from sklearn.metrics import(\n",
    "    mean_absolute_error as MAE,\n",
    "    mean_squared_error as MSE,\n",
    "    mean_absolute_percentage_error as MAPE,\n",
    "\n",
    ")\n",
    "import joblib\n",
    "import warnings\n",
    "warnings.filterwarnings('ignore')"
   ]
  },
  {
   "cell_type": "markdown",
   "id": "b9066510",
   "metadata": {},
   "source": [
    "# Prep."
   ]
  },
  {
   "cell_type": "code",
   "execution_count": 2,
   "id": "a9e5316d",
   "metadata": {},
   "outputs": [
    {
     "name": "stdout",
     "output_type": "stream",
     "text": [
      "<class 'pandas.core.frame.DataFrame'>\n",
      "RangeIndex: 4146632 entries, 0 to 4146631\n",
      "Data columns (total 6 columns):\n",
      " #   Column           Dtype  \n",
      "---  ------           -----  \n",
      " 0   trip_distance    float32\n",
      " 1   VendorID         uint8  \n",
      " 2   passenger_count  int64  \n",
      " 3   pickup_hour      uint8  \n",
      " 4   pickup_day       uint8  \n",
      " 5   fare_amount      float32\n",
      "dtypes: float32(2), int64(1), uint8(3)\n",
      "memory usage: 75.1 MB\n"
     ]
    },
    {
     "data": {
      "text/html": [
       "<div>\n",
       "<style scoped>\n",
       "    .dataframe tbody tr th:only-of-type {\n",
       "        vertical-align: middle;\n",
       "    }\n",
       "\n",
       "    .dataframe tbody tr th {\n",
       "        vertical-align: top;\n",
       "    }\n",
       "\n",
       "    .dataframe thead th {\n",
       "        text-align: right;\n",
       "    }\n",
       "</style>\n",
       "<table border=\"1\" class=\"dataframe\">\n",
       "  <thead>\n",
       "    <tr style=\"text-align: right;\">\n",
       "      <th></th>\n",
       "      <th>trip_distance</th>\n",
       "      <th>VendorID</th>\n",
       "      <th>passenger_count</th>\n",
       "      <th>pickup_hour</th>\n",
       "      <th>pickup_day</th>\n",
       "      <th>fare_amount</th>\n",
       "    </tr>\n",
       "  </thead>\n",
       "  <tbody>\n",
       "    <tr>\n",
       "      <th>3343397</th>\n",
       "      <td>2.39</td>\n",
       "      <td>2</td>\n",
       "      <td>1</td>\n",
       "      <td>4</td>\n",
       "      <td>3</td>\n",
       "      <td>13.500000</td>\n",
       "    </tr>\n",
       "    <tr>\n",
       "      <th>3539624</th>\n",
       "      <td>1.83</td>\n",
       "      <td>2</td>\n",
       "      <td>1</td>\n",
       "      <td>21</td>\n",
       "      <td>1</td>\n",
       "      <td>15.770000</td>\n",
       "    </tr>\n",
       "    <tr>\n",
       "      <th>1005237</th>\n",
       "      <td>6.70</td>\n",
       "      <td>1</td>\n",
       "      <td>2</td>\n",
       "      <td>16</td>\n",
       "      <td>1</td>\n",
       "      <td>40.799999</td>\n",
       "    </tr>\n",
       "    <tr>\n",
       "      <th>2504825</th>\n",
       "      <td>1.35</td>\n",
       "      <td>2</td>\n",
       "      <td>1</td>\n",
       "      <td>1</td>\n",
       "      <td>2</td>\n",
       "      <td>9.300000</td>\n",
       "    </tr>\n",
       "    <tr>\n",
       "      <th>787587</th>\n",
       "      <td>2.72</td>\n",
       "      <td>2</td>\n",
       "      <td>1</td>\n",
       "      <td>20</td>\n",
       "      <td>3</td>\n",
       "      <td>34.900002</td>\n",
       "    </tr>\n",
       "  </tbody>\n",
       "</table>\n",
       "</div>"
      ],
      "text/plain": [
       "         trip_distance  VendorID  passenger_count  pickup_hour  pickup_day  \\\n",
       "3343397           2.39         2                1            4           3   \n",
       "3539624           1.83         2                1           21           1   \n",
       "1005237           6.70         1                2           16           1   \n",
       "2504825           1.35         2                1            1           2   \n",
       "787587            2.72         2                1           20           3   \n",
       "\n",
       "         fare_amount  \n",
       "3343397    13.500000  \n",
       "3539624    15.770000  \n",
       "1005237    40.799999  \n",
       "2504825     9.300000  \n",
       "787587     34.900002  "
      ]
     },
     "execution_count": 2,
     "metadata": {},
     "output_type": "execute_result"
    }
   ],
   "source": [
    "data = pd.read_parquet(\"./data/trip_data_clean.parquet\")\n",
    "data.info()\n",
    "data.sample(5)"
   ]
  },
  {
   "cell_type": "markdown",
   "id": "bca53420",
   "metadata": {},
   "source": [
    "## Split Data"
   ]
  },
  {
   "cell_type": "code",
   "execution_count": 3,
   "id": "afc60cab",
   "metadata": {},
   "outputs": [
    {
     "data": {
      "text/plain": [
       "((3317305, 1), (829327, 1), (3317305,), (829327,))"
      ]
     },
     "execution_count": 3,
     "metadata": {},
     "output_type": "execute_result"
    }
   ],
   "source": [
    "features = data.columns[:1]\n",
    "target = data.columns[-1]\n",
    "\n",
    "X = data[features]\n",
    "y = data[target]\n",
    "\n",
    "X_train, X_test, y_train, y_test = train_test_split(\n",
    "    X,\n",
    "    y,\n",
    "    test_size=0.2,\n",
    "    random_state=42,\n",
    ")\n",
    "X_train.shape, X_test.shape, y_train.shape, y_test.shape"
   ]
  },
  {
   "cell_type": "code",
   "execution_count": 13,
   "id": "e80e52b9",
   "metadata": {},
   "outputs": [
    {
     "data": {
      "text/html": [
       "<div>\n",
       "<style scoped>\n",
       "    .dataframe tbody tr th:only-of-type {\n",
       "        vertical-align: middle;\n",
       "    }\n",
       "\n",
       "    .dataframe tbody tr th {\n",
       "        vertical-align: top;\n",
       "    }\n",
       "\n",
       "    .dataframe thead th {\n",
       "        text-align: right;\n",
       "    }\n",
       "</style>\n",
       "<table border=\"1\" class=\"dataframe\">\n",
       "  <thead>\n",
       "    <tr style=\"text-align: right;\">\n",
       "      <th></th>\n",
       "      <th>trip_distance</th>\n",
       "    </tr>\n",
       "  </thead>\n",
       "  <tbody>\n",
       "    <tr>\n",
       "      <th>3087106</th>\n",
       "      <td>3.08</td>\n",
       "    </tr>\n",
       "    <tr>\n",
       "      <th>3513496</th>\n",
       "      <td>2.14</td>\n",
       "    </tr>\n",
       "    <tr>\n",
       "      <th>143985</th>\n",
       "      <td>2.40</td>\n",
       "    </tr>\n",
       "    <tr>\n",
       "      <th>3202584</th>\n",
       "      <td>13.40</td>\n",
       "    </tr>\n",
       "    <tr>\n",
       "      <th>2823564</th>\n",
       "      <td>6.72</td>\n",
       "    </tr>\n",
       "  </tbody>\n",
       "</table>\n",
       "</div>"
      ],
      "text/plain": [
       "         trip_distance\n",
       "3087106           3.08\n",
       "3513496           2.14\n",
       "143985            2.40\n",
       "3202584          13.40\n",
       "2823564           6.72"
      ]
     },
     "execution_count": 13,
     "metadata": {},
     "output_type": "execute_result"
    }
   ],
   "source": [
    "# Xtrain display\n",
    "X_train.head()"
   ]
  },
  {
   "cell_type": "code",
   "execution_count": 14,
   "id": "42fc29f3",
   "metadata": {},
   "outputs": [
    {
     "data": {
      "text/plain": [
       "2630041    38.00\n",
       "750544     12.10\n",
       "1402242    29.60\n",
       "1943826    11.15\n",
       "1308079    10.70\n",
       "Name: fare_amount, dtype: float32"
      ]
     },
     "execution_count": 14,
     "metadata": {},
     "output_type": "execute_result"
    }
   ],
   "source": [
    "# y_test display\n",
    "y_test.head()"
   ]
  },
  {
   "cell_type": "code",
   "execution_count": 17,
   "id": "0ff41db6",
   "metadata": {},
   "outputs": [
    {
     "data": {
      "text/plain": [
       "(0.009999999776482582, 89.0999984741211)"
      ]
     },
     "execution_count": 17,
     "metadata": {},
     "output_type": "execute_result"
    },
    {
     "data": {
      "image/png": "[encoded data removed]",
      "text/plain": [
       "<Figure size 640x480 with 1 Axes>"
      ]
     },
     "metadata": {},
     "output_type": "display_data"
    }
   ],
   "source": [
    "import matplotlib.pyplot as plt\n",
    "plt.hist(y_train, bins=50)\n",
    "plt.xlabel(\"trip_duration\")\n",
    "plt.xlim(np.min(y_train), np.percentile(y_train, 99))"
   ]
  },
  {
   "cell_type": "markdown",
   "id": "e53b35fe",
   "metadata": {},
   "source": [
    "# Modeling"
   ]
  },
  {
   "cell_type": "code",
   "execution_count": 4,
   "id": "dfecd5dc",
   "metadata": {},
   "outputs": [],
   "source": [
    "# Baseline Model 1: Random Prediction\n",
    "def random_predict(X):\n",
    "    np.random.seed(42)\n",
    "    return np.random.uniform(low=y.min(), high=y.max(), size=len(X))\n",
    "\n",
    "# Baseline Model 2: Linear Regression\n",
    "lr_model = LinearRegression()\n",
    "lr_model.fit(X_train, y_train)\n",
    "lr_train_pred = lr_model.predict(X_train)\n",
    "lr_test_pred = lr_model.predict(X_test)\n",
    "\n",
    "# Expected Best Model: Decision Tree Regressor\n",
    "dt_model = DecisionTreeRegressor(random_state=42)\n",
    "dt_model.fit(X_train, y_train)\n",
    "dt_train_pred = dt_model.predict(X_train)\n",
    "dt_test_pred = dt_model.predict(X_test)"
   ]
  },
  {
   "cell_type": "code",
   "execution_count": 18,
   "id": "5cfefd2e",
   "metadata": {},
   "outputs": [
    {
     "data": {
      "text/plain": [
       "(array([3.5091603], dtype=float32), np.float32(9.122213))"
      ]
     },
     "execution_count": 18,
     "metadata": {},
     "output_type": "execute_result"
    }
   ],
   "source": [
    "# lr_model algorithm\n",
    "lr_model.coef_, lr_model.intercept_"
   ]
  },
  {
   "cell_type": "code",
   "execution_count": 19,
   "id": "937b0494",
   "metadata": {},
   "outputs": [
    {
     "data": {
      "text/plain": [
       "{'ccp_alpha': 0.0,\n",
       " 'criterion': 'squared_error',\n",
       " 'max_depth': None,\n",
       " 'max_features': None,\n",
       " 'max_leaf_nodes': None,\n",
       " 'min_impurity_decrease': 0.0,\n",
       " 'min_samples_leaf': 1,\n",
       " 'min_samples_split': 2,\n",
       " 'min_weight_fraction_leaf': 0.0,\n",
       " 'monotonic_cst': None,\n",
       " 'random_state': 42,\n",
       " 'splitter': 'best'}"
      ]
     },
     "execution_count": 19,
     "metadata": {},
     "output_type": "execute_result"
    }
   ],
   "source": [
    "# dt_model algorithm\n",
    "dt_model.get_params()"
   ]
  },
  {
   "cell_type": "markdown",
   "id": "728d1b37",
   "metadata": {},
   "source": [
    "# Evaluation"
   ]
  },
  {
   "cell_type": "code",
   "execution_count": 5,
   "id": "911ff2b5",
   "metadata": {},
   "outputs": [
    {
     "data": {
      "text/html": [
       "<div>\n",
       "<style scoped>\n",
       "    .dataframe tbody tr th:only-of-type {\n",
       "        vertical-align: middle;\n",
       "    }\n",
       "\n",
       "    .dataframe tbody tr th {\n",
       "        vertical-align: top;\n",
       "    }\n",
       "\n",
       "    .dataframe thead th {\n",
       "        text-align: right;\n",
       "    }\n",
       "</style>\n",
       "<table border=\"1\" class=\"dataframe\">\n",
       "  <thead>\n",
       "    <tr style=\"text-align: right;\">\n",
       "      <th></th>\n",
       "      <th>Model</th>\n",
       "      <th>Set_Category</th>\n",
       "      <th>MAE</th>\n",
       "      <th>MSE</th>\n",
       "      <th>RMSE</th>\n",
       "      <th>MAPE</th>\n",
       "    </tr>\n",
       "  </thead>\n",
       "  <tbody>\n",
       "    <tr>\n",
       "      <th>0</th>\n",
       "      <td>Random Prediction</td>\n",
       "      <td>Train</td>\n",
       "      <td>224.936315</td>\n",
       "      <td>70668.901451</td>\n",
       "      <td>265.836231</td>\n",
       "      <td>15.463675</td>\n",
       "    </tr>\n",
       "    <tr>\n",
       "      <th>1</th>\n",
       "      <td>Random Prediction</td>\n",
       "      <td>Test</td>\n",
       "      <td>225.028496</td>\n",
       "      <td>70692.786176</td>\n",
       "      <td>265.881150</td>\n",
       "      <td>15.410399</td>\n",
       "    </tr>\n",
       "    <tr>\n",
       "      <th>2</th>\n",
       "      <td>Linear Regression</td>\n",
       "      <td>Train</td>\n",
       "      <td>4.969563</td>\n",
       "      <td>82.948395</td>\n",
       "      <td>9.107601</td>\n",
       "      <td>0.470385</td>\n",
       "    </tr>\n",
       "    <tr>\n",
       "      <th>3</th>\n",
       "      <td>Linear Regression</td>\n",
       "      <td>Test</td>\n",
       "      <td>4.981627</td>\n",
       "      <td>86.119461</td>\n",
       "      <td>9.280057</td>\n",
       "      <td>0.481713</td>\n",
       "    </tr>\n",
       "    <tr>\n",
       "      <th>4</th>\n",
       "      <td>Decision Tree Regressor</td>\n",
       "      <td>Train</td>\n",
       "      <td>4.713450</td>\n",
       "      <td>67.941855</td>\n",
       "      <td>8.242685</td>\n",
       "      <td>0.472797</td>\n",
       "    </tr>\n",
       "    <tr>\n",
       "      <th>5</th>\n",
       "      <td>Decision Tree Regressor</td>\n",
       "      <td>Test</td>\n",
       "      <td>4.780491</td>\n",
       "      <td>77.992697</td>\n",
       "      <td>8.831347</td>\n",
       "      <td>0.497425</td>\n",
       "    </tr>\n",
       "  </tbody>\n",
       "</table>\n",
       "</div>"
      ],
      "text/plain": [
       "                     Model Set_Category         MAE           MSE        RMSE  \\\n",
       "0        Random Prediction        Train  224.936315  70668.901451  265.836231   \n",
       "1        Random Prediction         Test  225.028496  70692.786176  265.881150   \n",
       "2        Linear Regression        Train    4.969563     82.948395    9.107601   \n",
       "3        Linear Regression         Test    4.981627     86.119461    9.280057   \n",
       "4  Decision Tree Regressor        Train    4.713450     67.941855    8.242685   \n",
       "5  Decision Tree Regressor         Test    4.780491     77.992697    8.831347   \n",
       "\n",
       "        MAPE  \n",
       "0  15.463675  \n",
       "1  15.410399  \n",
       "2   0.470385  \n",
       "3   0.481713  \n",
       "4   0.472797  \n",
       "5   0.497425  "
      ]
     },
     "execution_count": 5,
     "metadata": {},
     "output_type": "execute_result"
    }
   ],
   "source": [
    "df_metrics = pd.DataFrame(columns=[\"Model\", \"Set_Category\", \"MAE\", \"MSE\", \"RMSE\", \"MAPE\"])\n",
    "\n",
    "def evaluate_model(name, dataset, y_true, y_pred):\n",
    "    mae = MAE(y_true, y_pred)\n",
    "    mse = MSE(y_true, y_pred)\n",
    "    rmse = np.sqrt(mse)\n",
    "    mape = MAPE(y_true, y_pred)\n",
    "\n",
    "    df_metrics.loc[len(df_metrics)] = [name, dataset, mae, mse, rmse, mape]\n",
    "    return df_metrics\n",
    "\n",
    "# Evaluate Random Prediction\n",
    "evaluate_model(\"Random Prediction\", \"Train\", y_train, random_predict(X_train))\n",
    "evaluate_model(\"Random Prediction\", \"Test\", y_test, random_predict(X_test))\n",
    "# Evaluate Linear Regression\n",
    "evaluate_model(\"Linear Regression\", \"Train\", y_train, lr_train_pred)\n",
    "evaluate_model(\"Linear Regression\", \"Test\", y_test, lr_test_pred)\n",
    "# Evaluate Decision Tree Regressor\n",
    "evaluate_model(\"Decision Tree Regressor\", \"Train\", y_train, dt_train_pred)\n",
    "evaluate_model(\"Decision Tree Regressor\", \"Test\", y_test, dt_test_pred)\n",
    "\n",
    "df_metrics"
   ]
  },
  {
   "cell_type": "markdown",
   "id": "b3701d9d",
   "metadata": {},
   "source": [
    "## Check Fit Status (Good, Underfit, or Overfit)"
   ]
  },
  {
   "cell_type": "code",
   "execution_count": 6,
   "id": "7ed71fa8",
   "metadata": {},
   "outputs": [
    {
     "data": {
      "text/html": [
       "<div>\n",
       "<style scoped>\n",
       "    .dataframe tbody tr th:only-of-type {\n",
       "        vertical-align: middle;\n",
       "    }\n",
       "\n",
       "    .dataframe tbody tr th {\n",
       "        vertical-align: top;\n",
       "    }\n",
       "\n",
       "    .dataframe thead th {\n",
       "        text-align: right;\n",
       "    }\n",
       "</style>\n",
       "<table border=\"1\" class=\"dataframe\">\n",
       "  <thead>\n",
       "    <tr style=\"text-align: right;\">\n",
       "      <th></th>\n",
       "      <th>Model</th>\n",
       "      <th>Set_Category</th>\n",
       "      <th>MAE</th>\n",
       "      <th>MSE</th>\n",
       "      <th>RMSE</th>\n",
       "      <th>MAPE</th>\n",
       "      <th>Fit_Status</th>\n",
       "    </tr>\n",
       "  </thead>\n",
       "  <tbody>\n",
       "    <tr>\n",
       "      <th>0</th>\n",
       "      <td>Random Prediction</td>\n",
       "      <td>Train</td>\n",
       "      <td>224.936315</td>\n",
       "      <td>70668.901451</td>\n",
       "      <td>265.836231</td>\n",
       "      <td>15.463675</td>\n",
       "      <td>None</td>\n",
       "    </tr>\n",
       "    <tr>\n",
       "      <th>1</th>\n",
       "      <td>Random Prediction</td>\n",
       "      <td>Test</td>\n",
       "      <td>225.028496</td>\n",
       "      <td>70692.786176</td>\n",
       "      <td>265.881150</td>\n",
       "      <td>15.410399</td>\n",
       "      <td>Good fit</td>\n",
       "    </tr>\n",
       "    <tr>\n",
       "      <th>2</th>\n",
       "      <td>Linear Regression</td>\n",
       "      <td>Train</td>\n",
       "      <td>4.969563</td>\n",
       "      <td>82.948395</td>\n",
       "      <td>9.107601</td>\n",
       "      <td>0.470385</td>\n",
       "      <td>None</td>\n",
       "    </tr>\n",
       "    <tr>\n",
       "      <th>3</th>\n",
       "      <td>Linear Regression</td>\n",
       "      <td>Test</td>\n",
       "      <td>4.981627</td>\n",
       "      <td>86.119461</td>\n",
       "      <td>9.280057</td>\n",
       "      <td>0.481713</td>\n",
       "      <td>Good fit</td>\n",
       "    </tr>\n",
       "    <tr>\n",
       "      <th>4</th>\n",
       "      <td>Decision Tree Regressor</td>\n",
       "      <td>Train</td>\n",
       "      <td>4.713450</td>\n",
       "      <td>67.941855</td>\n",
       "      <td>8.242685</td>\n",
       "      <td>0.472797</td>\n",
       "      <td>None</td>\n",
       "    </tr>\n",
       "    <tr>\n",
       "      <th>5</th>\n",
       "      <td>Decision Tree Regressor</td>\n",
       "      <td>Test</td>\n",
       "      <td>4.780491</td>\n",
       "      <td>77.992697</td>\n",
       "      <td>8.831347</td>\n",
       "      <td>0.497425</td>\n",
       "      <td>Good fit</td>\n",
       "    </tr>\n",
       "  </tbody>\n",
       "</table>\n",
       "</div>"
      ],
      "text/plain": [
       "                     Model Set_Category         MAE           MSE        RMSE  \\\n",
       "0        Random Prediction        Train  224.936315  70668.901451  265.836231   \n",
       "1        Random Prediction         Test  225.028496  70692.786176  265.881150   \n",
       "2        Linear Regression        Train    4.969563     82.948395    9.107601   \n",
       "3        Linear Regression         Test    4.981627     86.119461    9.280057   \n",
       "4  Decision Tree Regressor        Train    4.713450     67.941855    8.242685   \n",
       "5  Decision Tree Regressor         Test    4.780491     77.992697    8.831347   \n",
       "\n",
       "        MAPE Fit_Status  \n",
       "0  15.463675       None  \n",
       "1  15.410399   Good fit  \n",
       "2   0.470385       None  \n",
       "3   0.481713   Good fit  \n",
       "4   0.472797       None  \n",
       "5   0.497425   Good fit  "
      ]
     },
     "execution_count": 6,
     "metadata": {},
     "output_type": "execute_result"
    }
   ],
   "source": [
    "def check_fit_status(df, metric=\"MAE\", threshold=0.1):\n",
    "    \"\"\"\n",
    "    Classify models as Overfit / Underfit / Good fit.\n",
    "\n",
    "    Parameters\n",
    "    ----------\n",
    "    df : pd.DataFrame\n",
    "        Must contain columns [\"Model\", \"Set_Category\", metric]\n",
    "    metric : str, default=\"RMSE\"\n",
    "        Metric to compare between Train and Test\n",
    "    threshold : float, default=0.2\n",
    "        Relative tolerance (20% by default).\n",
    "        If |Train - Test| > threshold * min(Train, Test), considered misfit.\n",
    "\n",
    "    Returns\n",
    "    -------\n",
    "    pd.DataFrame\n",
    "        Original df with an extra column 'Fit_Status'\n",
    "    \"\"\"\n",
    "    result = df.copy()\n",
    "\n",
    "    # Create a column for Fit_Status only for the Test rows\n",
    "    result[\"Fit_Status\"] = None\n",
    "\n",
    "    # Work model by model\n",
    "    for model in result[\"Model\"].unique():\n",
    "        train_row = result[(result.Model == model) & (result.Set_Category == \"Train\")].iloc[0]\n",
    "        test_row = result[(result.Model == model) & (result.Set_Category == \"Test\")].iloc[0]\n",
    "\n",
    "        train_err = train_row[metric]\n",
    "        test_err = test_row[metric]\n",
    "\n",
    "        gap = abs(test_err - train_err)\n",
    "        rel_gap = gap / min(train_err, test_err)\n",
    "\n",
    "        if rel_gap <= threshold:\n",
    "            status = \"Good fit\"\n",
    "        else:\n",
    "            if test_err > train_err:\n",
    "                status = \"Overfit (high test error)\"\n",
    "            else:\n",
    "                status = \"Underfit (high train error)\"  # rare but possible\n",
    "\n",
    "        # Assign status to the test row\n",
    "        idx = result[(result.Model == model) & (result.Set_Category == \"Test\")].index\n",
    "        result.loc[idx, \"Fit_Status\"] = status\n",
    "\n",
    "    return result\n",
    "\n",
    "df_metrics = check_fit_status(df_metrics) \n",
    "df_metrics"
   ]
  },
  {
   "cell_type": "markdown",
   "id": "1fda8d75",
   "metadata": {},
   "source": [
    "# Use Model"
   ]
  },
  {
   "cell_type": "code",
   "execution_count": 7,
   "id": "3f60645f",
   "metadata": {},
   "outputs": [
    {
     "name": "stdout",
     "output_type": "stream",
     "text": [
      "f(x) = 3.509160280227661 * x + 9.122213363647461\n",
      "f(`trip_distance`) = 3.509160280227661 * `trip_distance` + 9.122213363647461 \n",
      "\n",
      "f(10) = $ 44.209999084472656\n",
      "f(20) = $ 79.30999755859375\n",
      "f(30) = $ 114.4000015258789\n"
     ]
    }
   ],
   "source": [
    "# Manual prediction using Linear Regression coefficients\n",
    "a = lr_model.coef_[0]\n",
    "b = lr_model.intercept_\n",
    "\n",
    "f_x = lambda x: a*x + b\n",
    "print(f\"f(x) = {a} * x + {b}\")\n",
    "print(f\"f(`trip_distance`) = {a} * `trip_distance` + {b}\", \"\\n\")\n",
    "\n",
    "print(f\"f(10) = $ {f_x(10).round(2)}\")\n",
    "print(f\"f(20) = $ {f_x(20).round(2)}\")\n",
    "print(f\"f(30) = $ {f_x(30).round(2)}\")"
   ]
  },
  {
   "cell_type": "code",
   "execution_count": 8,
   "id": "6dbbdfa1",
   "metadata": {},
   "outputs": [
    {
     "data": {
      "text/plain": [
       "(array([44.21]), array([79.31]), array([114.4]))"
      ]
     },
     "execution_count": 8,
     "metadata": {},
     "output_type": "execute_result"
    }
   ],
   "source": [
    "# Prediction using Linear Regression model\n",
    "lr_model.predict([[10]]).round(2), lr_model.predict([[20]]).round(2), lr_model.predict([[30]]).round(2)"
   ]
  },
  {
   "cell_type": "code",
   "execution_count": 9,
   "id": "074c0510",
   "metadata": {},
   "outputs": [
    {
     "data": {
      "text/plain": [
       "(array([43.27]), array([72.55]), array([106.4]))"
      ]
     },
     "execution_count": 9,
     "metadata": {},
     "output_type": "execute_result"
    }
   ],
   "source": [
    "# Prediction using Decisiont Tree Regressor\n",
    "dt_model.predict([[10]]).round(2), dt_model.predict([[20]]).round(2), dt_model.predict([[30]]).round(2)"
   ]
  },
  {
   "cell_type": "code",
   "execution_count": 11,
   "id": "19fe8796",
   "metadata": {},
   "outputs": [
    {
     "data": {
      "text/plain": [
       "['./model/dt.joblib']"
      ]
     },
     "execution_count": 11,
     "metadata": {},
     "output_type": "execute_result"
    }
   ],
   "source": [
    "# Export Model\n",
    "joblib.dump(lr_model, \"./model/lr.joblib\")\n",
    "joblib.dump(dt_model, \"./model/dt.joblib\")\n"
   ]
  },
  {
   "cell_type": "code",
   "execution_count": null,
   "id": "e41f9340",
   "metadata": {},
   "outputs": [],
   "source": []
  }
 ],
 "metadata": {
  "kernelspec": {
   "display_name": "boom_env",
   "language": "python",
   "name": "python3"
  },
  "language_info": {
   "codemirror_mode": {
    "name": "ipython",
    "version": 3
   },
   "file_extension": ".py",
   "mimetype": "text/x-python",
   "name": "python",
   "nbconvert_exporter": "python",
   "pygments_lexer": "ipython3",
   "version": "3.12.11"
  }
 },
 "nbformat": 4,
 "nbformat_minor": 5
}
